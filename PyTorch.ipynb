{
  "nbformat": 4,
  "nbformat_minor": 0,
  "metadata": {
    "colab": {
      "provenance": [],
      "authorship_tag": "ABX9TyM9owcmWEq59cycWz6wC1hk",
      "include_colab_link": true
    },
    "kernelspec": {
      "name": "python3",
      "display_name": "Python 3"
    },
    "language_info": {
      "name": "python"
    }
  },
  "cells": [
    {
      "cell_type": "markdown",
      "metadata": {
        "id": "view-in-github",
        "colab_type": "text"
      },
      "source": [
        "<a href=\"https://colab.research.google.com/github/pauldebayan/ml_notebooks/blob/main/PyTorch.ipynb\" target=\"_parent\"><img src=\"https://colab.research.google.com/assets/colab-badge.svg\" alt=\"Open In Colab\"/></a>"
      ]
    },
    {
      "cell_type": "markdown",
      "source": [
        "### Runtime > Change Runtime Type\n",
        "\n",
        "### Downloading data/file:\n",
        "` !wget <URL>`\n",
        "\n",
        "### Uploading data/file:\n",
        "```\n",
        "from gooogle.colab import files\n",
        "uploaded = files.upload()\n",
        "\n",
        "```\n",
        "\n",
        "or\n",
        "\n",
        "```\n",
        "import google.colab as cb\n",
        "uploaded = cb.files.upload()\n",
        "\n",
        "```\n",
        "\n",
        "> from package_name import module_name.\n",
        "The import keyword is used to import the entire package, and then you can access its modules using dot notation.\n",
        "\n",
        "Example:\n",
        "\n",
        "util.py\n",
        "```\n",
        "def my_useful_function():\n",
        "  printf(\"Hello World!\")\n",
        "  \n",
        "```\n",
        "After uploading util.py we can use it in colab as:\n",
        "```\n",
        "from util import my_useful_function\n",
        "my_useful_function()\n",
        "```\n",
        "\n",
        "\n"
      ],
      "metadata": {
        "id": "_gTTZY2OBcQ6"
      }
    },
    {
      "cell_type": "code",
      "source": [
        "!pwd"
      ],
      "metadata": {
        "id": "XwvpGSpUJEf3",
        "outputId": "4ff84add-f2ce-48c4-eaf8-e7c302a4c3f2",
        "colab": {
          "base_uri": "https://localhost:8080/"
        }
      },
      "execution_count": null,
      "outputs": [
        {
          "output_type": "stream",
          "name": "stdout",
          "text": [
            "/content\n"
          ]
        }
      ]
    },
    {
      "cell_type": "markdown",
      "source": [
        "### Access files from Google Drive:\n",
        "\n",
        "```\n",
        "from google.colab import drive\n",
        "drive.mount('/content/gdrive')\n",
        "\n",
        "!ls gdrive\n",
        "\n",
        "```\n",
        "\n",
        "\n"
      ],
      "metadata": {
        "id": "m4DYuGOvJ_JE"
      }
    },
    {
      "cell_type": "markdown",
      "source": [
        "### Mandatory Skills: NumPy, Scipy, Matplotlib, Pandas and Skikit-Learn"
      ],
      "metadata": {
        "id": "X9qwfqbKMP0B"
      }
    },
    {
      "cell_type": "markdown",
      "source": [
        "## Machine Learning is nothing but a geometry problem\n",
        "\n",
        "![Linear_Regression.png](https://raw.githubusercontent.com/pauldebayan/ml_notebooks/main/images/Linear_Regression.png)"
      ],
      "metadata": {
        "id": "kPb4mbdnq323"
      }
    },
    {
      "cell_type": "markdown",
      "source": [
        "## Y is actual value and Y(Hat) is the predicted value\n",
        "\n",
        "![image.png](https://raw.githubusercontent.com/pauldebayan/ml_notebooks/main/images/LossFunction.jpg)"
      ],
      "metadata": {
        "id": "iF2ISQLUr4je"
      }
    },
    {
      "cell_type": "markdown",
      "source": [
        "## Regression Code\n",
        "\n",
        "Steps:\n",
        "1. Build the model\n",
        "\n",
        "```\n",
        "model = nn.Linear(1, 1)\n",
        "\n",
        "```\n",
        "\n",
        "2. Train the model\n",
        "\n",
        "```\n",
        "criterion = nn.MSELoss()\n",
        "optimizer = torch.optim.SGD(model.parameters(), lr=0.1)\n",
        "# Train the model\n",
        "n_epochs = 30\n",
        "for it in range(n_epochs):\n",
        "    # zero the parameter gradients\n",
        "    optimizer.zero_grad()\n",
        "\n",
        "    # Forward pass\n",
        "    outputs = model(inputs)\n",
        "    loss = criterion(outputs, targets)\n",
        "\n",
        "    # Backward and optimize\n",
        "    loss.backward()\n",
        "    optimizer.step()\n",
        "\n",
        "```\n",
        "\n",
        "![TrainTheModel.jpg](https://raw.githubusercontent.com/pauldebayan/ml_notebooks/main/images/TrainTheModel.jpg)\n",
        "\n",
        "\n",
        "> PyTorch doesn't work with Numpy arrays, but **Torch Tensors**\n",
        "\n",
        "\n",
        "```\n",
        "# Array to Tensors\n",
        "\n",
        "# In ML we want our data to be of shape:\n",
        "# (num_samples x num_dimensions)\n",
        "\n",
        "X = X.reshape(N, 1)\n",
        "Y = Y.reshape(N, 1)\n",
        "\n",
        "# PyTorch uses float32 by default\n",
        "# Numpy creates float64 by default\n",
        "\n",
        "inputs = torch.from_numpy(X.astype(np.float32))\n",
        "targets = torch.from_numpy(Y.astype(np.float32))\n",
        "\n",
        "```\n",
        "\n",
        "\n",
        "3. Make predictions\n",
        "\n",
        "Since inputs are in tensors it generates output also as tensors\n",
        "\n",
        "```\n",
        "# Forward pass\n",
        "outputs = model(inputs)\n",
        "\n",
        "# To display the output data we need to convert Tensor to numpy using:\n",
        "\n",
        "predictions = model(inputs).detach().numpy()\n",
        "# Detaches from graph(more details later), and convert to Numpy array\n",
        "```\n",
        "\n",
        "\n",
        "\n",
        "\n"
      ],
      "metadata": {
        "id": "W3G0Di8KQTE3"
      }
    }
  ]
}