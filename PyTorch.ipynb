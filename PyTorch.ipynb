{
  "nbformat": 4,
  "nbformat_minor": 0,
  "metadata": {
    "colab": {
      "provenance": [],
      "authorship_tag": "ABX9TyMAr8S+sAX1QoVt3AZotnq9",
      "include_colab_link": true
    },
    "kernelspec": {
      "name": "python3",
      "display_name": "Python 3"
    },
    "language_info": {
      "name": "python"
    }
  },
  "cells": [
    {
      "cell_type": "markdown",
      "metadata": {
        "id": "view-in-github",
        "colab_type": "text"
      },
      "source": [
        "<a href=\"https://colab.research.google.com/github/pauldebayan/ml_notebooks/blob/main/PyTorch.ipynb\" target=\"_parent\"><img src=\"https://colab.research.google.com/assets/colab-badge.svg\" alt=\"Open In Colab\"/></a>"
      ]
    },
    {
      "cell_type": "markdown",
      "source": [
        "### Runtime > Change Runtime Type\n",
        "\n",
        "### Downloading data/file:\n",
        "` !wget <URL>`\n",
        "\n",
        "### Uploading data/file:\n",
        "```\n",
        "from gooogle.colab import files\n",
        "uploaded = files.upload()\n",
        "\n",
        "```\n",
        "\n",
        "or\n",
        "\n",
        "```\n",
        "import google.colab as cb\n",
        "uploaded = cb.files.upload()\n",
        "\n",
        "```\n",
        "\n",
        "> from package_name import module_name.\n",
        "The import keyword is used to import the entire package, and then you can access its modules using dot notation.\n",
        "\n",
        "Example:\n",
        "\n",
        "util.py\n",
        "```\n",
        "def my_useful_function():\n",
        "  printf(\"Hello World!\")\n",
        "  \n",
        "```\n",
        "After uploading util.py we can use it in colab as:\n",
        "```\n",
        "from util import my_useful_function\n",
        "my_useful_function()\n",
        "```\n",
        "\n",
        "\n"
      ],
      "metadata": {
        "id": "_gTTZY2OBcQ6"
      }
    },
    {
      "cell_type": "code",
      "source": [
        "!pwd"
      ],
      "metadata": {
        "id": "XwvpGSpUJEf3",
        "outputId": "4ff84add-f2ce-48c4-eaf8-e7c302a4c3f2",
        "colab": {
          "base_uri": "https://localhost:8080/"
        }
      },
      "execution_count": null,
      "outputs": [
        {
          "output_type": "stream",
          "name": "stdout",
          "text": [
            "/content\n"
          ]
        }
      ]
    },
    {
      "cell_type": "markdown",
      "source": [
        "### Access files from Google Drive:\n",
        "\n",
        "```\n",
        "from google.colab import drive\n",
        "drive.mount('/content/gdrive')\n",
        "\n",
        "!ls gdrive\n",
        "\n",
        "```\n",
        "\n",
        "\n"
      ],
      "metadata": {
        "id": "m4DYuGOvJ_JE"
      }
    },
    {
      "cell_type": "markdown",
      "source": [
        "### Mandatory Skills: NumPy, Scipy, Matplotlib, Pandas and Skikit-Learn"
      ],
      "metadata": {
        "id": "X9qwfqbKMP0B"
      }
    },
    {
      "cell_type": "markdown",
      "source": [
        "## Machine Learning is nothing but a geometry problem\n",
        "\n",
        "![Linear_Regression.png](https://raw.githubusercontent.com/pauldebayan/ml_notebooks/main/images/Linear_Regression.png)"
      ],
      "metadata": {
        "id": "kPb4mbdnq323"
      }
    },
    {
      "cell_type": "markdown",
      "source": [
        "## Y is actual value and Y(Hat) is the predicted value\n",
        "\n",
        "![image.png](https://raw.githubusercontent.com/pauldebayan/ml_notebooks/main/images/LossFunction.jpg)"
      ],
      "metadata": {
        "id": "iF2ISQLUr4je"
      }
    },
    {
      "cell_type": "markdown",
      "source": [
        "## Regression Code\n",
        "\n",
        "Steps:\n",
        "1. Build the model\n",
        "\n",
        "```\n",
        "model = nn.Linear(1, 1)\n",
        "\n",
        "```\n",
        "\n",
        "2. Train the model\n",
        "\n",
        "```\n",
        "criterion = nn.MSELoss()\n",
        "optimizer = torch.optim.SGD(model.parameters(), lr=0.1)\n",
        "# Train the model\n",
        "n_epochs = 30\n",
        "for it in range(n_epochs):\n",
        "    # zero the parameter gradients\n",
        "    optimizer.zero_grad()\n",
        "\n",
        "    # Forward pass\n",
        "    outputs = model(inputs)\n",
        "    loss = criterion(outputs, targets)\n",
        "\n",
        "    # Backward and optimize\n",
        "    loss.backward()\n",
        "    optimizer.step()\n",
        "\n",
        "```\n",
        "\n",
        "![TrainTheModel.jpg](https://raw.githubusercontent.com/pauldebayan/ml_notebooks/main/images/TrainTheModel.jpg)\n",
        "\n",
        "\n",
        "> PyTorch doesn't work with Numpy arrays, but **Torch Tensors**\n",
        "\n",
        "\n",
        "```\n",
        "# Array to Tensors\n",
        "\n",
        "# In ML we want our data to be of shape:\n",
        "# (num_samples x num_dimensions)\n",
        "\n",
        "X = X.reshape(N, 1)\n",
        "Y = Y.reshape(N, 1)\n",
        "\n",
        "# PyTorch uses float32 by default\n",
        "# Numpy creates float64 by default\n",
        "\n",
        "inputs = torch.from_numpy(X.astype(np.float32))\n",
        "targets = torch.from_numpy(Y.astype(np.float32))\n",
        "\n",
        "```\n",
        "\n",
        "\n",
        "3. Make predictions\n",
        "\n",
        "Since inputs are in tensors it generates output also as tensors\n",
        "\n",
        "```\n",
        "# Forward pass\n",
        "outputs = model(inputs)\n",
        "\n",
        "# To display the output data we need to convert Tensor to numpy using:\n",
        "\n",
        "predictions = model(inputs).detach().numpy()\n",
        "# Detaches from graph(more details later), and convert to Numpy array\n",
        "```\n",
        "\n",
        "\n",
        "\n",
        "\n"
      ],
      "metadata": {
        "id": "W3G0Di8KQTE3"
      }
    },
    {
      "cell_type": "markdown",
      "source": [
        "# Coding\n",
        "\n",
        "> torch.nn - nn is a module containing lot of useful stuff\n",
        "\n",
        "Capital **N** for number of samples <br/>\n",
        "Capital **D** for number of features\n",
        "\n",
        "\n",
        "`np.random.randn(N) # Gaussian noise`"
      ],
      "metadata": {
        "id": "VvVaYlt7hhGJ"
      }
    },
    {
      "cell_type": "code",
      "source": [
        "import torch\n",
        "\n",
        "import torch.nn as nn\n",
        "\n",
        "import numpy as np\n",
        "\n",
        "import matplotlib.pyplot as plt"
      ],
      "metadata": {
        "id": "TXzMoJ8xhlJm"
      },
      "execution_count": 1,
      "outputs": []
    },
    {
      "cell_type": "code",
      "source": [
        "N = 20\n",
        "\n",
        "X = np.random.random(N)*10 - 5\n",
        "\n",
        "# Here 0.5 is the m slope and 1 is the b intercept\n",
        "Y = 0.5 * X - 1 + np.random.randn(N)\n",
        "\n",
        "plt.scatter(X, Y)"
      ],
      "metadata": {
        "id": "TfY-znCDjjsw",
        "outputId": "61d0dbfe-d2ed-48dc-81d2-b1b5babcad94",
        "colab": {
          "base_uri": "https://localhost:8080/",
          "height": 448
        }
      },
      "execution_count": 2,
      "outputs": [
        {
          "output_type": "execute_result",
          "data": {
            "text/plain": [
              "<matplotlib.collections.PathCollection at 0x782022f5a5f0>"
            ]
          },
          "metadata": {},
          "execution_count": 2
        },
        {
          "output_type": "display_data",
          "data": {
            "text/plain": [
              "<Figure size 640x480 with 1 Axes>"
            ],
            "image/png": "[encoded data removed]"
          },
          "metadata": {}
        }
      ]
    },
    {
      "cell_type": "markdown",
      "source": [
        "# PyTorch Code"
      ],
      "metadata": {
        "id": "dtDFVp41kpdJ"
      }
    },
    {
      "cell_type": "code",
      "source": [
        "# We are creating a linear regression model with 1 input and 1 output\n",
        "model = nn.Linear(1, 1)\n",
        "\n",
        "# Training process starts with defining a loss function(MSE)  object and an optimizer object(SGD)\n",
        "# Here lr is 'learning rate'\n",
        "\n",
        "criterion = nn.MSELoss()\n",
        "optimizer = torch.optim.SGD(model.parameters(), lr=0.1)\n",
        "\n",
        "\n",
        "# We start by reshaping X and Y into N by 1 matrices\n",
        "X = X.reshape(N, 1)\n",
        "Y = Y.reshape(N, 1)\n",
        "\n",
        "# PyTorch uses float32 by default\n",
        "# Numpy creates float64 by default\n",
        "\n",
        "inputs = torch.from_numpy(X.astype(np.float32))\n",
        "targets = torch.from_numpy(Y.astype(np.float32))\n",
        "\n",
        "type(inputs)\n"
      ],
      "metadata": {
        "id": "-l_ftEhHksrB",
        "outputId": "0c699c19-c50a-4d47-9da6-32667fbadc4d",
        "colab": {
          "base_uri": "https://localhost:8080/"
        }
      },
      "execution_count": 4,
      "outputs": [
        {
          "output_type": "execute_result",
          "data": {
            "text/plain": [
              "torch.Tensor"
            ]
          },
          "metadata": {},
          "execution_count": 4
        }
      ]
    },
    {
      "cell_type": "code",
      "source": [
        "# Train the model\n",
        "# Here 30 is a number choosed after some experimentation\n",
        "n_epochs = 30\n",
        "losses = []\n",
        "\n",
        "for it in range(n_epochs):\n",
        "    # zero the parameter gradients\n",
        "    # Behind the scene PyTorch is actually accumulating the gradient each time you call backwards\n",
        "    # zero the gradient to prevent them from accumulating and give us the correct answer\n",
        "    optimizer.zero_grad()\n",
        "\n",
        "    # Forward pass\n",
        "    outputs = model(inputs)\n",
        "    loss = criterion(outputs, targets)\n",
        "\n",
        "    # Keep the loss so we can plot it later\n",
        "    # We need to take the loss from PyTorch land to Python land\n",
        "    # item() because loss is a single number\n",
        "    losses.append(loss.item())\n",
        "\n",
        "    # Backward and optimize\n",
        "    # We calculate the gradients, PyTorch encapsulates this in function called 'backward' to be called from the 'loss' tensor\n",
        "    loss.backward()\n",
        "\n",
        "    # Finally we call optimizer.step() to do one step of gradient descent\n",
        "    optimizer.step()\n",
        "\n",
        "    print(f\"Epoch {it+1}/{n_epochs}, Loss: {loss.item():.4f}\" )"
      ],
      "metadata": {
        "id": "dBqBD5rJqIII",
        "outputId": "1f301b1d-1310-42f8-a9e7-c66a2e428b43",
        "colab": {
          "base_uri": "https://localhost:8080/"
        }
      },
      "execution_count": 8,
      "outputs": [
        {
          "output_type": "stream",
          "name": "stdout",
          "text": [
            "Epoch 1/30, Loss: 0.4872\n",
            "Epoch 2/30, Loss: 0.4804\n",
            "Epoch 3/30, Loss: 0.4748\n",
            "Epoch 4/30, Loss: 0.4703\n",
            "Epoch 5/30, Loss: 0.4666\n",
            "Epoch 6/30, Loss: 0.4635\n",
            "Epoch 7/30, Loss: 0.4611\n",
            "Epoch 8/30, Loss: 0.4590\n",
            "Epoch 9/30, Loss: 0.4574\n",
            "Epoch 10/30, Loss: 0.4560\n",
            "Epoch 11/30, Loss: 0.4549\n",
            "Epoch 12/30, Loss: 0.4540\n",
            "Epoch 13/30, Loss: 0.4533\n",
            "Epoch 14/30, Loss: 0.4527\n",
            "Epoch 15/30, Loss: 0.4522\n",
            "Epoch 16/30, Loss: 0.4518\n",
            "Epoch 17/30, Loss: 0.4515\n",
            "Epoch 18/30, Loss: 0.4512\n",
            "Epoch 19/30, Loss: 0.4510\n",
            "Epoch 20/30, Loss: 0.4508\n",
            "Epoch 21/30, Loss: 0.4507\n",
            "Epoch 22/30, Loss: 0.4505\n",
            "Epoch 23/30, Loss: 0.4504\n",
            "Epoch 24/30, Loss: 0.4504\n",
            "Epoch 25/30, Loss: 0.4503\n",
            "Epoch 26/30, Loss: 0.4502\n",
            "Epoch 27/30, Loss: 0.4502\n",
            "Epoch 28/30, Loss: 0.4502\n",
            "Epoch 29/30, Loss: 0.4501\n",
            "Epoch 30/30, Loss: 0.4501\n"
          ]
        }
      ]
    },
    {
      "cell_type": "code",
      "source": [
        "plt.plot(losses)"
      ],
      "metadata": {
        "id": "UttZpWYlwvX4",
        "outputId": "0bc15f08-d842-45fd-aa9f-6a6e4593d3d7",
        "colab": {
          "base_uri": "https://localhost:8080/",
          "height": 448
        }
      },
      "execution_count": 9,
      "outputs": [
        {
          "output_type": "execute_result",
          "data": {
            "text/plain": [
              "[<matplotlib.lines.Line2D at 0x78201ed61810>]"
            ]
          },
          "metadata": {},
          "execution_count": 9
        },
        {
          "output_type": "display_data",
          "data": {
            "text/plain": [
              "<Figure size 640x480 with 1 Axes>"
            ],
            "image/png": "[encoded data removed]"
          },
          "metadata": {}
        }
      ]
    },
    {
      "cell_type": "code",
      "source": [
        "# Plot the graph\n",
        "\n",
        "predicted = model(inputs).detach().numpy()\n",
        "\n",
        "plt.scatter(X, Y, label='Original data')\n",
        "plt.plot(X, predicted, label='Fitted line')\n",
        "\n",
        "plt.legend()"
      ],
      "metadata": {
        "id": "pmOAulLlxwb-",
        "outputId": "39d946b1-3892-4899-afad-70ad4b292677",
        "colab": {
          "base_uri": "https://localhost:8080/",
          "height": 448
        }
      },
      "execution_count": 14,
      "outputs": [
        {
          "output_type": "execute_result",
          "data": {
            "text/plain": [
              "<matplotlib.legend.Legend at 0x78201ea4b2e0>"
            ]
          },
          "metadata": {},
          "execution_count": 14
        },
        {
          "output_type": "display_data",
          "data": {
            "text/plain": [
              "<Figure size 640x480 with 1 Axes>"
            ],
            "image/png": "[encoded data removed]"
          },
          "metadata": {}
        }
      ]
    },
    {
      "cell_type": "code",
      "source": [
        "model(inputs).numpy() # Will create error if we do not call detach function"
      ],
      "metadata": {
        "id": "jelfaslGyXv5",
        "outputId": "d3ecf410-6a4d-4d5f-ef6a-5d3ec1ecb037",
        "colab": {
          "base_uri": "https://localhost:8080/",
          "height": 147
        }
      },
      "execution_count": 16,
      "outputs": [
        {
          "output_type": "error",
          "ename": "RuntimeError",
          "evalue": "Can't call numpy() on Tensor that requires grad. Use tensor.detach().numpy() instead.",
          "traceback": [
            "\u001b[0;31m---------------------------------------------------------------------------\u001b[0m",
            "\u001b[0;31mRuntimeError\u001b[0m                              Traceback (most recent call last)",
            "\u001b[0;32m<ipython-input-16-e71e65a07eab>\u001b[0m in \u001b[0;36m<cell line: 1>\u001b[0;34m()\u001b[0m\n\u001b[0;32m----> 1\u001b[0;31m \u001b[0mmodel\u001b[0m\u001b[0;34m(\u001b[0m\u001b[0minputs\u001b[0m\u001b[0;34m)\u001b[0m\u001b[0;34m.\u001b[0m\u001b[0mnumpy\u001b[0m\u001b[0;34m(\u001b[0m\u001b[0;34m)\u001b[0m \u001b[0;31m# Will create error if we do not call detach function\u001b[0m\u001b[0;34m\u001b[0m\u001b[0;34m\u001b[0m\u001b[0m\n\u001b[0m",
            "\u001b[0;31mRuntimeError\u001b[0m: Can't call numpy() on Tensor that requires grad. Use tensor.detach().numpy() instead."
          ]
        }
      ]
    },
    {
      "cell_type": "code",
      "source": [
        "# Important\n",
        "# We know true values of weight w and bias b\n",
        "w = model.weight.data.numpy()\n",
        "b = model.bias.data.numpy()\n",
        "\n",
        "print(w, b)"
      ],
      "metadata": {
        "id": "yv3v76h3zHVy",
        "outputId": "f7669b50-4574-4eb0-d83d-ac7c192c16e8",
        "colab": {
          "base_uri": "https://localhost:8080/"
        }
      },
      "execution_count": 17,
      "outputs": [
        {
          "output_type": "stream",
          "name": "stdout",
          "text": [
            "[[0.49580413]] [-1.1552438]\n"
          ]
        }
      ]
    }
  ]
}