{
  "nbformat": 4,
  "nbformat_minor": 0,
  "metadata": {
    "colab": {
      "provenance": [],
      "authorship_tag": "ABX9TyMM2C6f4lrqe3CfnDGXiYXZ",
      "include_colab_link": true
    },
    "kernelspec": {
      "name": "python3",
      "display_name": "Python 3"
    },
    "language_info": {
      "name": "python"
    }
  },
  "cells": [
    {
      "cell_type": "markdown",
      "metadata": {
        "id": "view-in-github",
        "colab_type": "text"
      },
      "source": [
        "<a href=\"https://colab.research.google.com/github/pauldebayan/ml_notebooks/blob/main/PyTorch.ipynb\" target=\"_parent\"><img src=\"https://colab.research.google.com/assets/colab-badge.svg\" alt=\"Open In Colab\"/></a>"
      ]
    },
    {
      "cell_type": "markdown",
      "source": [
        "### Runtime > Change Runtime Type\n",
        "\n",
        "### Downloading data/file:\n",
        "` !wget <URL>`\n",
        "\n",
        "### Uploading data/file:\n",
        "```\n",
        "from gooogle.colab import files\n",
        "uploaded = files.upload()\n",
        "\n",
        "```\n",
        "\n",
        "or\n",
        "\n",
        "```\n",
        "import google.colab as cb\n",
        "uploaded = cb.files.upload()\n",
        "\n",
        "```\n",
        "\n",
        "> from package_name import module_name.\n",
        "The import keyword is used to import the entire package, and then you can access its modules using dot notation.\n",
        "\n",
        "Example:\n",
        "\n",
        "util.py\n",
        "```\n",
        "def my_useful_function():\n",
        "  printf(\"Hello World!\")\n",
        "  \n",
        "```\n",
        "After uploading util.py we can use it in colab as:\n",
        "```\n",
        "from util import my_useful_function\n",
        "my_useful_function()\n",
        "```\n",
        "\n",
        "\n"
      ],
      "metadata": {
        "id": "_gTTZY2OBcQ6"
      }
    },
    {
      "cell_type": "code",
      "source": [
        "!pwd"
      ],
      "metadata": {
        "id": "XwvpGSpUJEf3",
        "outputId": "4ff84add-f2ce-48c4-eaf8-e7c302a4c3f2",
        "colab": {
          "base_uri": "https://localhost:8080/"
        }
      },
      "execution_count": null,
      "outputs": [
        {
          "output_type": "stream",
          "name": "stdout",
          "text": [
            "/content\n"
          ]
        }
      ]
    },
    {
      "cell_type": "markdown",
      "source": [
        "### Access files from Google Drive:\n",
        "\n",
        "```\n",
        "from google.colab import drive\n",
        "drive.mount('/content/gdrive')\n",
        "\n",
        "!ls gdrive\n",
        "\n",
        "```\n",
        "\n",
        "\n"
      ],
      "metadata": {
        "id": "m4DYuGOvJ_JE"
      }
    },
    {
      "cell_type": "markdown",
      "source": [
        "### Mandatory Skills: NumPy, Scipy, Matplotlib, Pandas and Skikit-Learn"
      ],
      "metadata": {
        "id": "X9qwfqbKMP0B"
      }
    },
    {
      "cell_type": "markdown",
      "source": [
        "## Machine Learning is nothing but a geometry problem\n",
        "\n",
        "![Linear_Regression.png](https://raw.githubusercontent.com/pauldebayan/ml_notebooks/main/images/Linear_Regression.png)"
      ],
      "metadata": {
        "id": "kPb4mbdnq323"
      }
    },
    {
      "cell_type": "markdown",
      "source": [
        "## Y is actual value and Y(Hat) is the predicted value\n",
        "\n",
        "![image.png](https://raw.githubusercontent.com/pauldebayan/ml_notebooks/main/images/LossFunction.jpg)"
      ],
      "metadata": {
        "id": "iF2ISQLUr4je"
      }
    }
  ]
}