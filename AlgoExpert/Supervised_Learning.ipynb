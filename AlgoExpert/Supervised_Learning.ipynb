{
 "cells": [
  {
   "cell_type": "markdown",
   "id": "3ffe444a",
   "metadata": {},
   "source": [
    "## Supervised Learning\n",
    "\n",
    "Data and Labels\n",
    "\n",
    "Deep Learning learning from mistake - Back Propagation"
   ]
  },
  {
   "cell_type": "markdown",
   "id": "2bdca4c9",
   "metadata": {},
   "source": [
    "## Prerequisites\n",
    "Terminology\n",
    "\n",
    "# Features\n",
    "Observation\n",
    "- Continous\n",
    "- Categorical\n",
    "- ordinal\n",
    "Useful in predicting something of interest\n",
    "\n",
    "## Labels\n",
    "\n",
    "Observations + Something useful to know\n",
    "\n",
    "## Maths\n",
    "\n",
    "- Arrays/Vectors\n",
    "- Matrix - Multiplication, Inverse, Transpose\n",
    "- Polynomials - Line, Quadratics,   \n",
    "- Derivatives\n",
    "- Probability - Basics, Conditionals, Distributions(Gaussian, Uniform, Beta)\n"
   ]
  },
  {
   "cell_type": "markdown",
   "id": "5ec3b3b6",
   "metadata": {},
   "source": [
    "\n",
    "# Supervised Learning\n",
    "## Naive Bayes\n",
    "\n",
    "Example - Instagram spam message - bot_101 - ['free', 'wallet', 'return', 'stock', 'xxx']\n",
    "\n",
    "Filter messages only when the message contains more than 1 word in the list\n",
    "\n",
    "> P(spam | message) - Probability of Spam given some message\n",
    "\n",
    "let message = w, short for words\n",
    "\n",
    "Bayes Theorem: <br/>\n",
    "P(spam | w) = (P(spam) * P(w | spam))/(P(spam) * P(w|spam) + P(not spam) * P(w | not spam) )\n",
    "\n",
    "Only consider the numerator and for simplicity remove the P:\n",
    "\n",
    "(spam | w) = (spam) * (w | spam)<br/>\n",
    "\n",
    "If we want to know about P(not spam | w) = P(not spam) * P(w | not spam), change is only in the numerator<br/>\n",
    "\n",
    "Denominator take into considerations for both scenarios - message being spam and not spam\n",
    "\n",
    "\n",
    "[Conditional Probability](https://www.youtube.com/watch?v=dQ6RL8qe320)\n",
    "\n",
    "\n",
    "[Bayes Theorem Deduction](https://www.youtube.com/watch?v=7zpEuCTcdKk)\n",
    "\n",
    "[Naive Bayes Problem](https://www.youtube.com/watch?v=PPeaRc-r1OI)\n",
    "\n"
   ]
  },
  {
   "cell_type": "markdown",
   "id": "a7fae018",
   "metadata": {},
   "source": [
    "## Performance\n",
    "\n"
   ]
  },
  {
   "cell_type": "markdown",
   "id": "f696302c",
   "metadata": {},
   "source": []
  }
 ],
 "metadata": {
  "kernelspec": {
   "display_name": "Python 3",
   "language": "python",
   "name": "python3"
  },
  "language_info": {
   "name": "python",
   "version": "3.8.10"
  }
 },
 "nbformat": 4,
 "nbformat_minor": 5
}
