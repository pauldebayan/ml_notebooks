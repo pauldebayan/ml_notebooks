{
 "cells": [
  {
   "cell_type": "markdown",
   "metadata": {},
   "source": [
    "## Processing Tabular Data"
   ]
  },
  {
   "cell_type": "code",
   "execution_count": null,
   "metadata": {},
   "outputs": [],
   "source": [
    "import pandas as pd\n",
    "\n",
    "df = pd.read_csv('abc.csv')\n",
    "df.head()\n",
    "\n",
    "df.shape # (rows, columns)\n",
    "df.size # (rows x columns)\n",
    "\n",
    "len(df) # rows\n",
    "\n",
    "df.clumns()\n",
    "\n",
    "# Extract ony 1 column from the dataframe - df\n",
    "df['Hired']\n",
    "\n",
    "# Extract given range of rows and columns from a named column\n",
    "\n",
    "df['Hired'][:5]\n",
    "  \n",
    "# or only 5th row\n",
    "df['Hired'][5]\n",
    "\n",
    "# Extract more than 1 column\n",
    "df[['Year of Experience', 'Head']]\n",
    "\n",
    "# Also specific range of columns\n",
    "df[['Year of Experience', 'Head']][:5]\n",
    "\n",
    "\n",
    "# Sorting using a particular column\n",
    "df.sort_values(['Years of Experience'])\n",
    "\n",
    "# Break down the number of unique values in a given column into a Series using value_counts() - to understand \n",
    "# the distribution of your data\n",
    "\n",
    "degree_counts = df['Level of Education'].value_counts()\n",
    "degree_counts # BS 7, PhD 4, MS 2"
   ]
  },
  {
   "cell_type": "code",
   "execution_count": null,
   "metadata": {},
   "outputs": [],
   "source": [
    "# Pandas make it easy to plot a series of DataFrame - just call plot()\n",
    "\n",
    "degree_counts.plot(kind = 'bar')"
   ]
  }
 ],
 "metadata": {
  "language_info": {
   "name": "python"
  }
 },
 "nbformat": 4,
 "nbformat_minor": 2
}
