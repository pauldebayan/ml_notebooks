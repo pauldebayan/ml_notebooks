{
 "cells": [
  {
   "cell_type": "markdown",
   "metadata": {},
   "source": [
    " ## Type of data\n",
    " 1. Numerical\n",
    " 2. Categorical\n",
    " 3. Ordinal"
   ]
  },
  {
   "cell_type": "markdown",
   "metadata": {},
   "source": [
    "## Mean, Median, Mode\n",
    "\n",
    " Mean - Sum / No. of samples<br/>\n",
    " Median - sort - take the midpoint, even no. of samples - avg. of two middle<br/>\n",
    " Mode(Not relevant to continuous numerical data) - Example<br/>\n",
    " 0, 2, 3, 2, 1, 0, 0, 2, 0<br/>\n",
    " How many of each value are there? 0: 4, 1: 1, 2: 3, 3: 1<br/>\n",
    " The mode is 0"
   ]
  },
  {
   "cell_type": "code",
   "execution_count": null,
   "metadata": {},
   "outputs": [],
   "source": [
    "# Mean, Median, Mode in Python\n",
    "import numpy as np\n",
    "\n",
    "incomes = np.random.normal(27000, 15000, 10000)\n",
    "np.mean(incomes)"
   ]
  }
 ],
 "metadata": {
  "language_info": {
   "name": "python"
  }
 },
 "nbformat": 4,
 "nbformat_minor": 2
}
