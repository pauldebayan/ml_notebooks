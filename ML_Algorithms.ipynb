{
  "nbformat": 4,
  "nbformat_minor": 0,
  "metadata": {
    "colab": {
      "provenance": [],
      "authorship_tag": "ABX9TyP5rXUProo7F1n2wN71Mrmu",
      "include_colab_link": true
    },
    "kernelspec": {
      "name": "python3",
      "display_name": "Python 3"
    },
    "language_info": {
      "name": "python"
    }
  },
  "cells": [
    {
      "cell_type": "markdown",
      "metadata": {
        "id": "view-in-github",
        "colab_type": "text"
      },
      "source": [
        "<a href=\"https://colab.research.google.com/github/pauldebayan/ml_notebooks/blob/main/ML_Algorithms.ipynb\" target=\"_parent\"><img src=\"https://colab.research.google.com/assets/colab-badge.svg\" alt=\"Open In Colab\"/></a>"
      ]
    },
    {
      "cell_type": "markdown",
      "source": [
        "ML Algorithms:\n",
        "\n",
        "## A. Supervised Learning\n",
        "\n",
        "###  1. Regression Algorithms:\n",
        "   * Linear Regression\n",
        "   * Logistic Regression\n",
        "   * Polynomial Regression\n",
        "   * Ridge Regression\n",
        "   * Lasso Regression\n",
        "   * Elastic Net\n",
        "   * Support Vector Regression (SVR)\n",
        "   * Decision Trees\n",
        "   * Random Forest\n",
        "   * Gradient Boosting Machines (GBM)\n",
        "   * XGBoost\n",
        "   * AdaBoost\n",
        "\n",
        "### 2. Classification Algorithms:\n",
        "   * Logistic Regression\n",
        "   * Decision Trees\n",
        "   * Random Forest\n",
        "   * Naive Bayes\n",
        "   * Support Vector Machines (SVM)\n",
        "   * K-Nearest Neighbors (KNN)\n",
        "   * Neural Networks\n",
        "   * Gradient Boosting Machines (GBM)\n",
        "   * XGBoost\n",
        "   * AdaBoost\n",
        "\n",
        "## B. Unsupervised Learning\n",
        "\n",
        "### 1. Clustering Algorithms:\n",
        "   * K-Means Clustering\n",
        "   * Hierarchical Clustering\n",
        "   * DBSCAN\n",
        "   * Gaussian Mixture Models (GMM)\n",
        "\n",
        "### 2. Dimensionality Reduction Algorithms:\n",
        "   * Principal Component Analysis (PCA)\n",
        "   * t-SNE\n",
        "   * Linear Discriminant Analysis (LDA)\n",
        "   * Factor Analysis\n",
        "\n",
        "## C. Reinforcement Learning\n",
        " * Q-Learning\n",
        " * Deep Q-Networks (DQN)\n",
        " * Policy Gradient Methods\n",
        " * Actor-Critic Methods\n",
        "\n",
        "## D. Other Algorithms\n",
        " * **Neural Networks**:\n",
        "   * Convolutional Neural Networks (CNN)\n",
        "   * Recurrent Neural Networks (RNN)\n",
        "   * Long Short-Term Memory (LSTM)\n",
        "   * Generative Adversarial Networks (GAN)\n",
        " * **Ensemble Methods**:\n",
        "   * Bagging\n",
        "   * Boosting\n",
        "   * Stacking"
      ],
      "metadata": {
        "id": "ZfxVUVpwwCPv"
      }
    }
  ]
}