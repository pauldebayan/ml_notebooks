{
  "nbformat": 4,
  "nbformat_minor": 0,
  "metadata": {
    "colab": {
      "provenance": [],
      "authorship_tag": "ABX9TyNq1NOWhsGx78cbQZCzf7qs",
      "include_colab_link": true
    },
    "kernelspec": {
      "name": "python3",
      "display_name": "Python 3"
    },
    "language_info": {
      "name": "python"
    }
  },
  "cells": [
    {
      "cell_type": "markdown",
      "metadata": {
        "id": "view-in-github",
        "colab_type": "text"
      },
      "source": [
        "<a href=\"https://colab.research.google.com/github/pauldebayan/ml_notebooks/blob/main/ML_Algorithms.ipynb\" target=\"_parent\"><img src=\"https://colab.research.google.com/assets/colab-badge.svg\" alt=\"Open In Colab\"/></a>"
      ]
    },
    {
      "cell_type": "markdown",
      "source": [
        "ML Algorithms:\n",
        "\n",
        "## A. Supervised Learning\n",
        "\n",
        "###  1. Regression Algorithms:\n",
        "   * Linear Regression\n",
        "   * Logistic Regression\n",
        "   * Polynomial Regression\n",
        "   * Ridge Regression\n",
        "   * Lasso Regression\n",
        "   * Elastic Net\n",
        "   * Support Vector Regression (SVR)\n",
        "   * Decision Trees\n",
        "   * Random Forest\n",
        "   * Gradient Boosting Machines (GBM)\n",
        "   * XGBoost\n",
        "   * AdaBoost\n",
        "\n",
        "### 2. Classification Algorithms:\n",
        "   * Logistic Regression\n",
        "   * Decision Trees\n",
        "   * Random Forest\n",
        "   * Naive Bayes\n",
        "   * Support Vector Machines (SVM)\n",
        "   * K-Nearest Neighbors (KNN)\n",
        "   * Neural Networks\n",
        "   * Gradient Boosting Machines (GBM)\n",
        "   * XGBoost\n",
        "   * AdaBoost\n",
        "\n",
        "## B. Unsupervised Learning\n",
        "\n",
        "### 1. Clustering Algorithms:\n",
        "   * K-Means Clustering\n",
        "   * Hierarchical Clustering\n",
        "   * DBSCAN\n",
        "   * Gaussian Mixture Models (GMM)\n",
        "\n",
        "### 2. Dimensionality Reduction Algorithms:\n",
        "   * Principal Component Analysis (PCA)\n",
        "   * t-SNE\n",
        "   * Linear Discriminant Analysis (LDA)\n",
        "   * Factor Analysis\n",
        "\n",
        "## C. Reinforcement Learning\n",
        " * Q-Learning\n",
        " * Deep Q-Networks (DQN)\n",
        " * Policy Gradient Methods\n",
        " * Actor-Critic Methods\n",
        "\n",
        "## D. Other Algorithms\n",
        " * **Neural Networks**:\n",
        "   * Convolutional Neural Networks (CNN)\n",
        "   * Recurrent Neural Networks (RNN)\n",
        "   * Long Short-Term Memory (LSTM)\n",
        "   * Generative Adversarial Networks (GAN)\n",
        " * **Ensemble Methods**:\n",
        "   * Bagging\n",
        "   * Boosting\n",
        "   * Stacking"
      ],
      "metadata": {
        "id": "ZfxVUVpwwCPv"
      }
    },
    {
      "cell_type": "markdown",
      "source": [
        "# Targetting ML Algorithms One by One\n",
        "\n",
        "1. Logistic Regression\n",
        "2. Polynomial Regression\n",
        "3. Ridge Regression\n",
        "4. Lasso Regression\n",
        "5. Elastic Net\n",
        "6. Support Vector Regression (SVR)\n",
        "7. Decision Trees\n",
        "8. Random Forest\n",
        "9. Gradient Boosting Machines (GBM)\n",
        "10. XGBoost\n",
        "11. AdaBoost\n",
        "12. Decision Trees\n",
        "13. Random Forest\n",
        "14. Naive Bayes\n",
        "15. Support Vector Machines (SVM)\n",
        "16. K-Nearest Neighbors (KNN)\n",
        "17. K-Means Clustering\n",
        "18. Hierarchical Clustering\n",
        "19. DBSCAN\n",
        "20. Gaussian Mixture Models (GMM)\n",
        "21. Principal Component Analysis (PCA)\n",
        "22. t-SNE\n",
        "23. Linear Discriminant Analysis (LDA)\n",
        "24. Factor Analysis\n",
        "25. Q-Learning\n",
        "26. Deep Q-Networks (DQN)\n",
        "27. Policy Gradient Methods\n",
        "28. Actor-Critic Methods\n",
        "29. Convolutional Neural Networks (CNN)\n",
        "30. Recurrent Neural Networks (RNN)\n",
        "31. Long Short-Term Memory (LSTM)\n",
        "32. Generative Adversarial Networks (GAN)\n",
        "33. Ensemble Methods: Bagging, Boosting, Stacking"
      ],
      "metadata": {
        "id": "-4vwkOQUCJdc"
      }
    },
    {
      "cell_type": "markdown",
      "source": [
        "## Decision Tree"
      ],
      "metadata": {
        "id": "ioJ0k9_Oszgi"
      }
    },
    {
      "cell_type": "markdown",
      "source": [],
      "metadata": {
        "id": "o5aqXG7ws4d6"
      }
    },
    {
      "cell_type": "markdown",
      "source": [
        "## Random Forest"
      ],
      "metadata": {
        "id": "7G18qJshGuXN"
      }
    },
    {
      "cell_type": "markdown",
      "source": [],
      "metadata": {
        "id": "dPaECHDhGyP9"
      }
    },
    {
      "cell_type": "markdown",
      "source": [
        "## Ensemble Methods: Bagging, Boosting, Stacking"
      ],
      "metadata": {
        "id": "M-I2psDdCR_9"
      }
    },
    {
      "cell_type": "markdown",
      "source": [],
      "metadata": {
        "id": "JXEBYaFFChY5"
      }
    }
  ]
}