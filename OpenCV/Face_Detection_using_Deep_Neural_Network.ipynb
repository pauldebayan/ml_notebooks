{
 "cells": [
  {
   "cell_type": "markdown",
   "id": "c9da8a18-cc9c-4b32-b188-03914ce346c9",
   "metadata": {},
   "source": [
    "Download raw - https://github.com/spmallick/learnopencv/blob/master/FaceDetectionComparison/models/res10_300x300_ssd_iter_140000_fp16.caffemodel"
   ]
  },
  {
   "cell_type": "code",
   "execution_count": 1,
   "id": "243b73b9-ce91-4faf-84c1-1a5fc138e045",
   "metadata": {},
   "outputs": [],
   "source": [
    "import numpy as np\n",
    "import cv2"
   ]
  },
  {
   "cell_type": "code",
   "execution_count": 2,
   "id": "3f012072-7867-4429-8809-8a6322598fa8",
   "metadata": {},
   "outputs": [],
   "source": [
    "img = cv2.imread('./images/faces.jpg')"
   ]
  },
  {
   "cell_type": "code",
   "execution_count": 3,
   "id": "40a95d3c-ed71-453d-99c1-ad04bc4069ab",
   "metadata": {},
   "outputs": [],
   "source": [
    "cv2.imshow('Faces', img)\n",
    "cv2.waitKey(1000)\n",
    "cv2.destroyAllWindows()"
   ]
  },
  {
   "cell_type": "code",
   "execution_count": 4,
   "id": "f42079c1-7f4f-4da8-9228-2a6daa1f962e",
   "metadata": {},
   "outputs": [],
   "source": [
    "face_detection_model = cv2.dnn.readNetFromCaffe('./model/deploy.prototxt.txt', './model/res10_300x300_ssd_iter_140000_fp16.caffemodel')"
   ]
  },
  {
   "cell_type": "code",
   "execution_count": 7,
   "id": "04823269-df1d-476d-92f8-d59efe533131",
   "metadata": {
    "scrolled": true
   },
   "outputs": [],
   "source": [
    "def face_detection_dnn(img):\n",
    "\n",
    "    #Step 1 - Blob from image\n",
    "    blob = cv2.dnn.blobFromImage(img, 1, (300, 300), (104, 177, 123), swapRB = True) # Resize the image to 300x300 since the caffe model is trained with 300x300\n",
    "    # Here (104, 177, 123) is RGB mean values\n",
    "    # It is reading in RGB but we want BGR so - swapRB = True\n",
    "    \n",
    "    #Step 2 - Set blob as input\n",
    "    face_detection_model.setInput(blob)\n",
    "    \n",
    "    #Step 3 - Get the Output\n",
    "    detections = face_detection_model.forward() # We are not changing any kind of weights\n",
    "    \n",
    "    #Step 3 - Drawing Bounding Box on top of face detection\n",
    "    image = img.copy()\n",
    "    h, w = image.shape[:2]\n",
    "    \n",
    "    for i in range(0, detections.shape[2]):\n",
    "        confidence = detections[0, 0, i, 2]\n",
    "        # This is the KEY thing\n",
    "        if confidence > 0.5:\n",
    "            #print(confidence)\n",
    "            # diagonal points 3 : 7\n",
    "            \n",
    "            #box = detections[0, 0, i, 3:7]\n",
    "    \n",
    "            # This values are normalized to its height and width \n",
    "            # In order to denormalize multiply it with height and width\n",
    "            \n",
    "            box = detections[0, 0, i, 3:7]*np.array([w, h, w, h])\n",
    "            box = box.astype('int')\n",
    "    \n",
    "            #print(box) \n",
    "    \n",
    "            # [ 77  52 208 255]\n",
    "            # Here 77  52 is startX and Start Y and 208 255 is endX and endY\n",
    "            pt1 = (box[0], box[1])\n",
    "            pt2 = (box[2], box[3])\n",
    "    \n",
    "            # Draw Rectangle\n",
    "            cv2.rectangle(image, pt1, pt2, (0, 255, 0), 2)\n",
    "    \n",
    "            # Put Text\n",
    "            text = 'Score: {:.0f}'.format(confidence*100)\n",
    "            cv2.putText(image, text, pt1, cv2.FONT_HERSHEY_SIMPLEX, 1, (255, 255, 255), 2)\n",
    "        \n",
    "    return image\n",
    "\n",
    "# cv2.imshow('Face Detection Using DNN', image)\n",
    "# cv2.waitKey(10000)\n",
    "# cv2.destroyAllWindows()\n",
    "\n",
    "        \n",
    "        \n",
    "\n",
    "\n",
    "        \n",
    "    "
   ]
  },
  {
   "cell_type": "code",
   "execution_count": 8,
   "id": "3ea8cf0a-a70d-493c-a739-d2791f474dba",
   "metadata": {},
   "outputs": [
    {
     "ename": "NameError",
     "evalue": "name 'detections' is not defined",
     "output_type": "error",
     "traceback": [
      "\u001b[0;31m---------------------------------------------------------------------------\u001b[0m",
      "\u001b[0;31mNameError\u001b[0m                                 Traceback (most recent call last)",
      "Cell \u001b[0;32mIn[8], line 1\u001b[0m\n\u001b[0;32m----> 1\u001b[0m \u001b[43mdetections\u001b[49m\u001b[38;5;241m.\u001b[39mshape\n",
      "\u001b[0;31mNameError\u001b[0m: name 'detections' is not defined"
     ]
    }
   ],
   "source": [
    "detections.shape"
   ]
  },
  {
   "cell_type": "markdown",
   "id": "81dfb5e0-0ac8-4b13-b75b-f9d59b2953ea",
   "metadata": {},
   "source": [
    "![Face Detection Output](./images/nb_face_detection_output.jpg)\n",
    "\n",
    "### 0 - Face, 1 - Not a Face, Confidence Score=Probability < 50 than 1 - Not Face else 0\n",
    "### 3, 4, 5, 6 - Bounding Box"
   ]
  },
  {
   "cell_type": "code",
   "execution_count": 9,
   "id": "3bef6167-5644-4496-b6c8-b1454aa55fbe",
   "metadata": {},
   "outputs": [
    {
     "ename": "NameError",
     "evalue": "name 'detections' is not defined",
     "output_type": "error",
     "traceback": [
      "\u001b[0;31m---------------------------------------------------------------------------\u001b[0m",
      "\u001b[0;31mNameError\u001b[0m                                 Traceback (most recent call last)",
      "Cell \u001b[0;32mIn[9], line 1\u001b[0m\n\u001b[0;32m----> 1\u001b[0m \u001b[43mdetections\u001b[49m[\u001b[38;5;241m0\u001b[39m, \u001b[38;5;241m0\u001b[39m, :, \u001b[38;5;241m2\u001b[39m] \u001b[38;5;66;03m# Here 2 is the confidence score\u001b[39;00m\n",
      "\u001b[0;31mNameError\u001b[0m: name 'detections' is not defined"
     ]
    }
   ],
   "source": [
    "detections[0, 0, :, 2] # Here 2 is the confidence score"
   ]
  },
  {
   "cell_type": "code",
   "execution_count": 10,
   "id": "cb60b21d-e3cb-48bc-9cd6-2f5e36b37d47",
   "metadata": {},
   "outputs": [],
   "source": [
    "img_detect = face_detection_dnn(img)\n",
    "\n",
    "cv2.imshow('Face Detection using DNN', img_detect)\n",
    "cv2.waitKey(5000)\n",
    "cv2.destroyAllWindows()"
   ]
  },
  {
   "cell_type": "markdown",
   "id": "3eefe70e-6f49-4055-8b5b-7b70a5d204cd",
   "metadata": {},
   "source": [
    "## Real Time Face Detection using DNN"
   ]
  },
  {
   "cell_type": "code",
   "execution_count": 14,
   "id": "4e56ce8f-2b95-495a-a6b1-a54607dd726c",
   "metadata": {},
   "outputs": [],
   "source": [
    "cap = cv2.VideoCapture(2)\n",
    "\n",
    "while True:\n",
    "    ret, frame = cap.read()\n",
    "\n",
    "    if ret == False or cv2.waitKey(1) == ord('q'):\n",
    "        break\n",
    "\n",
    "    img_detect = face_detection_dnn(frame)\n",
    "\n",
    "    cv2.imshow('Real Time Face Detection using DNN', img_detect)\n",
    "\n",
    "cap.release()\n",
    "cv2.destroyAllWindows()\n",
    "    \n"
   ]
  }
 ],
 "metadata": {
  "kernelspec": {
   "display_name": "Python 3 (ipykernel)",
   "language": "python",
   "name": "python3"
  },
  "language_info": {
   "codemirror_mode": {
    "name": "ipython",
    "version": 3
   },
   "file_extension": ".py",
   "mimetype": "text/x-python",
   "name": "python",
   "nbconvert_exporter": "python",
   "pygments_lexer": "ipython3",
   "version": "3.8.10"
  }
 },
 "nbformat": 4,
 "nbformat_minor": 5
}
