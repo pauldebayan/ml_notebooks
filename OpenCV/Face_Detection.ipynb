{
 "cells": [
  {
   "cell_type": "markdown",
   "id": "315771e5-2d52-4f82-af78-d33d712511bf",
   "metadata": {},
   "source": [
    "Initial steps:\n",
    "\n",
    "1. Google: Haar Cascade Classifies OpenCV github\n",
    "[Link](https://github.com/opencv/opencv/tree/master/data/haarcascades)\n",
    "2. Download - haarcascade_frontalface_default.xml - Raw\n"
   ]
  },
  {
   "cell_type": "code",
   "execution_count": 2,
   "id": "ad6c7c33-551b-4ccf-a38c-d61f033e5cda",
   "metadata": {},
   "outputs": [],
   "source": [
    "import numpy as np\n",
    "import cv2"
   ]
  },
  {
   "cell_type": "code",
   "execution_count": 3,
   "id": "1e1f842e-7d60-43db-b794-182c09e8a570",
   "metadata": {},
   "outputs": [],
   "source": [
    "img = cv2.imread('./images/faces.jpg')"
   ]
  },
  {
   "cell_type": "code",
   "execution_count": 4,
   "id": "da354f06-1f88-4ff4-bc5c-bbf253d4b760",
   "metadata": {},
   "outputs": [],
   "source": [
    "cv2.imshow('Faces', img)\n",
    "cv2.waitKey(5000)\n",
    "cv2.destroyAllWindows()"
   ]
  },
  {
   "cell_type": "markdown",
   "id": "1c3bf12b-bd61-4d09-bbfc-2730c41405c8",
   "metadata": {},
   "source": [
    "## Now load the xml file\n",
    "We cannot apply the cascade classifier directly - we need to convert the image to grayscale and than apply the Cascade Classifier to get the **bounding boxes**"
   ]
  },
  {
   "cell_type": "code",
   "execution_count": 7,
   "id": "7e83e48d-4b7e-4171-9c27-836684736a3d",
   "metadata": {},
   "outputs": [],
   "source": [
    "face_cascade = cv2.CascadeClassifier('./model/haarcascade_frontalface_default.xml')"
   ]
  },
  {
   "cell_type": "code",
   "execution_count": 30,
   "id": "dca5f578-7fec-4fdb-837e-c0de308d712c",
   "metadata": {},
   "outputs": [],
   "source": [
    "# Step 1 - Convert the image into grayscale\n",
    "gray = cv2.cvtColor(img, cv2.COLOR_BGR2GRAY)\n",
    "\n",
    "#Step 2 - Apply grayscale image to the Cascade classifier\n",
    "\n",
    "box, detections = face_cascade.detectMultiScale2(gray, minNeighbors=8)\n"
   ]
  },
  {
   "cell_type": "code",
   "execution_count": null,
   "id": "c4c25aa0-ea60-42e1-9b81-d2dac412b647",
   "metadata": {},
   "outputs": [],
   "source": [
    "box"
   ]
  },
  {
   "cell_type": "markdown",
   "id": "fa368144-7ec4-4bd6-af61-19ccf1f66dba",
   "metadata": {},
   "source": [
    "Here 49, 42  is X and Y positions\n",
    "and 181, 181 is width and height of the box\n",
    "\n",
    "Using this values we need to draw rectangle"
   ]
  },
  {
   "cell_type": "code",
   "execution_count": null,
   "id": "e3e6cce4-511e-4134-b937-cecbb6916ba2",
   "metadata": {},
   "outputs": [],
   "source": [
    "detections"
   ]
  },
  {
   "cell_type": "code",
   "execution_count": null,
   "id": "1aea574a-ebc8-4027-aeb8-d31c917c4c3d",
   "metadata": {},
   "outputs": [],
   "source": [
    "for x, y, w, h in box:\n",
    "    cv2.rectangle(img, (x, y), (x+w, y+h),(0, 255, 0), 2)\n",
    "\n",
    "cv2.imshow('Face Detected', img)\n",
    "cv2.waitKey(10000)\n",
    "cv2.destroyAllWindows()"
   ]
  },
  {
   "cell_type": "markdown",
   "id": "a8bc68b6-8525-42b7-97b7-ee2928a9f680",
   "metadata": {},
   "source": [
    "## Face Detection Function"
   ]
  },
  {
   "cell_type": "code",
   "execution_count": 8,
   "id": "c80837f4-5462-4d78-a9a6-daf55967c2ae",
   "metadata": {},
   "outputs": [],
   "source": [
    "def face_detection(img):\n",
    "    image_copy = img.copy()\n",
    "\n",
    "    # Step 1 - Convert the image into grayscale\n",
    "    gray = cv2.cvtColor(image_copy, cv2.COLOR_BGR2GRAY)\n",
    "    #Step 2 - Apply grayscale image to the Cascade classifier\n",
    "    box, detections = face_cascade.detectMultiScale2(gray, minNeighbors=8)\n",
    "    \n",
    "    for x, y, w, h in box:\n",
    "        cv2.rectangle(image_copy, (x, y), (x+w, y+h),(0, 255, 0), 2)\n",
    "    \n",
    "    return image_copy\n",
    "\n"
   ]
  },
  {
   "cell_type": "code",
   "execution_count": 6,
   "id": "ec3d14ee-466c-4f97-923e-76093dff0697",
   "metadata": {},
   "outputs": [],
   "source": [
    "img_detection = face_detection(img)\n",
    "\n",
    "cv2.imshow('Face Detection Function',img_detection)\n",
    "cv2.waitKey(5000)\n",
    "cv2.destroyAllWindows()\n"
   ]
  },
  {
   "cell_type": "markdown",
   "id": "f9c0a213-bf97-4813-ad6f-b787df0b1ba3",
   "metadata": {},
   "source": [
    "## Real Time Face Detection\n",
    "> Open Webcam\n"
   ]
  },
  {
   "cell_type": "code",
   "execution_count": 13,
   "id": "7a5c5b6e-e232-4841-82ed-9d5c76ef14ba",
   "metadata": {},
   "outputs": [],
   "source": [
    "cap = cv2.VideoCapture(2)\n",
    "\n",
    "while True:\n",
    "    ret, frame = cap.read()\n",
    "\n",
    "    if ret == False:\n",
    "        break\n",
    "\n",
    "    frame_detect = face_detection(frame)\n",
    "\n",
    "    cv2.imshow('Real Time Face Detection', frame_detect)\n",
    "    if cv2.waitKey(1) == ord('a'):\n",
    "        break\n",
    "\n",
    "cap.release()\n",
    "cv2.destroyAllWindows()"
   ]
  },
  {
   "cell_type": "code",
   "execution_count": null,
   "id": "98840441-0f4c-41ea-837d-33a2488c169d",
   "metadata": {},
   "outputs": [],
   "source": []
  },
  {
   "cell_type": "code",
   "execution_count": null,
   "id": "279a44ec-9d82-4ad0-bebd-c12a8418a105",
   "metadata": {},
   "outputs": [],
   "source": []
  }
 ],
 "metadata": {
  "kernelspec": {
   "display_name": "Python 3 (ipykernel)",
   "language": "python",
   "name": "python3"
  },
  "language_info": {
   "codemirror_mode": {
    "name": "ipython",
    "version": 3
   },
   "file_extension": ".py",
   "mimetype": "text/x-python",
   "name": "python",
   "nbconvert_exporter": "python",
   "pygments_lexer": "ipython3",
   "version": "3.8.10"
  }
 },
 "nbformat": 4,
 "nbformat_minor": 5
}
