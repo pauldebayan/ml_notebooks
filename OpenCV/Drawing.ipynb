{
 "cells": [
  {
   "cell_type": "markdown",
   "id": "ea1e6054-6455-4b54-a9b1-ceca8c174eab",
   "metadata": {},
   "source": [
    "# Drawing Line, Rectangel and Circle"
   ]
  },
  {
   "cell_type": "markdown",
   "id": "00b5a8e8-b44b-42dd-81dd-e28f03fbd577",
   "metadata": {},
   "source": [
    "## Defining our images using numpy"
   ]
  },
  {
   "cell_type": "code",
   "execution_count": 10,
   "id": "af9c1edc-9c2a-4ba2-8c65-976cc19c6765",
   "metadata": {},
   "outputs": [],
   "source": [
    "import numpy as np\n",
    "import cv2"
   ]
  },
  {
   "cell_type": "code",
   "execution_count": 11,
   "id": "6f8266ec-4557-417b-8473-5d72fbf300d3",
   "metadata": {},
   "outputs": [],
   "source": [
    "canvas = np.zeros((400, 400, 3), dtype=\"uint8\")\n"
   ]
  },
  {
   "cell_type": "code",
   "execution_count": 12,
   "id": "37c5ea94-e9df-4e90-80e3-ea62f6fba1e0",
   "metadata": {},
   "outputs": [],
   "source": [
    "def display(window_name, file_name):\n",
    "    cv2.imshow(window_name, file_name)\n",
    "    cv2.waitKey(5000)\n",
    "    cv2.destroyWindow(window_name)"
   ]
  },
  {
   "cell_type": "code",
   "execution_count": 13,
   "id": "9a96b9d1-5b50-42c9-a8f9-6a0eae1e5f35",
   "metadata": {},
   "outputs": [],
   "source": [
    "display('Created Canvas', canvas)"
   ]
  },
  {
   "cell_type": "markdown",
   "id": "1c9cd1d1-458e-49b7-81e8-1c85327bf448",
   "metadata": {},
   "source": [
    "## Draw a line Diagonally\n",
    "> cv2.line(IMAGE, Point1, To Point2, COLOR, THICKNESS)"
   ]
  },
  {
   "cell_type": "code",
   "execution_count": 5,
   "id": "9f29bab2-bf67-49e4-83ad-2dc092075d43",
   "metadata": {},
   "outputs": [],
   "source": [
    "green = (0, 255, 0)"
   ]
  },
  {
   "cell_type": "code",
   "execution_count": 6,
   "id": "95e00e72-b4ea-48a7-8f3e-6fb3b00425da",
   "metadata": {},
   "outputs": [
    {
     "data": {
      "text/plain": [
       "array([[[  0, 255,   0],\n",
       "        [  0, 255,   0],\n",
       "        [  0, 255,   0],\n",
       "        ...,\n",
       "        [  0,   0,   0],\n",
       "        [  0,   0,   0],\n",
       "        [  0,   0,   0]],\n",
       "\n",
       "       [[  0, 255,   0],\n",
       "        [  0, 255,   0],\n",
       "        [  0, 255,   0],\n",
       "        ...,\n",
       "        [  0,   0,   0],\n",
       "        [  0,   0,   0],\n",
       "        [  0,   0,   0]],\n",
       "\n",
       "       [[  0, 255,   0],\n",
       "        [  0, 255,   0],\n",
       "        [  0, 255,   0],\n",
       "        ...,\n",
       "        [  0,   0,   0],\n",
       "        [  0,   0,   0],\n",
       "        [  0,   0,   0]],\n",
       "\n",
       "       ...,\n",
       "\n",
       "       [[  0,   0,   0],\n",
       "        [  0,   0,   0],\n",
       "        [  0,   0,   0],\n",
       "        ...,\n",
       "        [  0, 255,   0],\n",
       "        [  0, 255,   0],\n",
       "        [  0, 255,   0]],\n",
       "\n",
       "       [[  0,   0,   0],\n",
       "        [  0,   0,   0],\n",
       "        [  0,   0,   0],\n",
       "        ...,\n",
       "        [  0, 255,   0],\n",
       "        [  0, 255,   0],\n",
       "        [  0, 255,   0]],\n",
       "\n",
       "       [[  0,   0,   0],\n",
       "        [  0,   0,   0],\n",
       "        [  0,   0,   0],\n",
       "        ...,\n",
       "        [  0, 255,   0],\n",
       "        [  0, 255,   0],\n",
       "        [  0, 255,   0]]], dtype=uint8)"
      ]
     },
     "execution_count": 6,
     "metadata": {},
     "output_type": "execute_result"
    }
   ],
   "source": [
    "cv2.line(canvas, (0, 0), (400, 400), green, 3)"
   ]
  },
  {
   "cell_type": "code",
   "execution_count": 7,
   "id": "8e088383-dfd4-42e8-b455-ed9dc9052afc",
   "metadata": {},
   "outputs": [],
   "source": [
    "display(\"Green Line\", canvas)"
   ]
  },
  {
   "cell_type": "markdown",
   "id": "93e8df8c-1a82-4261-a1da-fb0fef07ec71",
   "metadata": {},
   "source": [
    "## Drawing Rectangle\n",
    "> cv2.rectangle(canvas, Point 1, To Point 2, COLOR, THICKNESS)\n",
    "> If THICKNESS is -1 in parameter recta\\ngle will be filled"
   ]
  },
  {
   "cell_type": "code",
   "execution_count": 18,
   "id": "7e8ed6a3-bf33-4803-8f15-a3907bd83394",
   "metadata": {},
   "outputs": [],
   "source": [
    "red = (0, 0, 255)\n",
    "cv2.rectangle(canvas, (20, 20), (100, 100), red, 3) # -1 instead of 3\n",
    "\n",
    "display('Rectangle', canvas)"
   ]
  },
  {
   "cell_type": "code",
   "execution_count": null,
   "id": "86425d59-83cc-4d3d-9ac6-2d355b7c5ef5",
   "metadata": {},
   "outputs": [],
   "source": []
  }
 ],
 "metadata": {
  "kernelspec": {
   "display_name": "Python 3 (ipykernel)",
   "language": "python",
   "name": "python3"
  },
  "language_info": {
   "codemirror_mode": {
    "name": "ipython",
    "version": 3
   },
   "file_extension": ".py",
   "mimetype": "text/x-python",
   "name": "python",
   "nbconvert_exporter": "python",
   "pygments_lexer": "ipython3",
   "version": "3.8.10"
  }
 },
 "nbformat": 4,
 "nbformat_minor": 5
}
