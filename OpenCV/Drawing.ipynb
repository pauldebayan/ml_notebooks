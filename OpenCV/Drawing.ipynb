{
 "cells": [
  {
   "cell_type": "markdown",
   "id": "ea1e6054-6455-4b54-a9b1-ceca8c174eab",
   "metadata": {},
   "source": [
    "# Drawing Line, Rectangel and Circle"
   ]
  },
  {
   "cell_type": "markdown",
   "id": "00b5a8e8-b44b-42dd-81dd-e28f03fbd577",
   "metadata": {},
   "source": [
    "## Defining our images using numpy"
   ]
  },
  {
   "cell_type": "code",
   "execution_count": 19,
   "id": "af9c1edc-9c2a-4ba2-8c65-976cc19c6765",
   "metadata": {},
   "outputs": [],
   "source": [
    "import numpy as np\n",
    "import cv2"
   ]
  },
  {
   "cell_type": "code",
   "execution_count": 20,
   "id": "6f8266ec-4557-417b-8473-5d72fbf300d3",
   "metadata": {},
   "outputs": [],
   "source": [
    "canvas = np.zeros((400, 400, 3), dtype=\"uint8\")\n"
   ]
  },
  {
   "cell_type": "code",
   "execution_count": 21,
   "id": "37c5ea94-e9df-4e90-80e3-ea62f6fba1e0",
   "metadata": {},
   "outputs": [],
   "source": [
    "def display(window_name, file_name):\n",
    "    cv2.imshow(window_name, file_name)\n",
    "    cv2.waitKey(5000)\n",
    "    cv2.destroyWindow(window_name)"
   ]
  },
  {
   "cell_type": "code",
   "execution_count": 22,
   "id": "9a96b9d1-5b50-42c9-a8f9-6a0eae1e5f35",
   "metadata": {},
   "outputs": [],
   "source": [
    "display('Created Canvas', canvas)"
   ]
  },
  {
   "cell_type": "markdown",
   "id": "1c9cd1d1-458e-49b7-81e8-1c85327bf448",
   "metadata": {},
   "source": [
    "## Draw a line Diagonally\n",
    "> cv2.line(IMAGE, Point1, To Point2, COLOR, THICKNESS)"
   ]
  },
  {
   "cell_type": "code",
   "execution_count": 5,
   "id": "9f29bab2-bf67-49e4-83ad-2dc092075d43",
   "metadata": {},
   "outputs": [],
   "source": [
    "green = (0, 255, 0)"
   ]
  },
  {
   "cell_type": "code",
   "execution_count": 6,
   "id": "95e00e72-b4ea-48a7-8f3e-6fb3b00425da",
   "metadata": {},
   "outputs": [
    {
     "data": {
      "text/plain": [
       "array([[[  0, 255,   0],\n",
       "        [  0, 255,   0],\n",
       "        [  0, 255,   0],\n",
       "        ...,\n",
       "        [  0,   0,   0],\n",
       "        [  0,   0,   0],\n",
       "        [  0,   0,   0]],\n",
       "\n",
       "       [[  0, 255,   0],\n",
       "        [  0, 255,   0],\n",
       "        [  0, 255,   0],\n",
       "        ...,\n",
       "        [  0,   0,   0],\n",
       "        [  0,   0,   0],\n",
       "        [  0,   0,   0]],\n",
       "\n",
       "       [[  0, 255,   0],\n",
       "        [  0, 255,   0],\n",
       "        [  0, 255,   0],\n",
       "        ...,\n",
       "        [  0,   0,   0],\n",
       "        [  0,   0,   0],\n",
       "        [  0,   0,   0]],\n",
       "\n",
       "       ...,\n",
       "\n",
       "       [[  0,   0,   0],\n",
       "        [  0,   0,   0],\n",
       "        [  0,   0,   0],\n",
       "        ...,\n",
       "        [  0, 255,   0],\n",
       "        [  0, 255,   0],\n",
       "        [  0, 255,   0]],\n",
       "\n",
       "       [[  0,   0,   0],\n",
       "        [  0,   0,   0],\n",
       "        [  0,   0,   0],\n",
       "        ...,\n",
       "        [  0, 255,   0],\n",
       "        [  0, 255,   0],\n",
       "        [  0, 255,   0]],\n",
       "\n",
       "       [[  0,   0,   0],\n",
       "        [  0,   0,   0],\n",
       "        [  0,   0,   0],\n",
       "        ...,\n",
       "        [  0, 255,   0],\n",
       "        [  0, 255,   0],\n",
       "        [  0, 255,   0]]], dtype=uint8)"
      ]
     },
     "execution_count": 6,
     "metadata": {},
     "output_type": "execute_result"
    }
   ],
   "source": [
    "cv2.line(canvas, (0, 0), (400, 400), green, 3)"
   ]
  },
  {
   "cell_type": "code",
   "execution_count": 7,
   "id": "8e088383-dfd4-42e8-b455-ed9dc9052afc",
   "metadata": {},
   "outputs": [],
   "source": [
    "display(\"Green Line\", canvas)"
   ]
  },
  {
   "cell_type": "markdown",
   "id": "93e8df8c-1a82-4261-a1da-fb0fef07ec71",
   "metadata": {},
   "source": [
    "## Drawing Rectangle\n",
    "> cv2.rectangle(canvas, Point 1, To Point 2, COLOR, THICKNESS)\n",
    "> If THICKNESS is -1 in parameter rectangle will be filled"
   ]
  },
  {
   "cell_type": "code",
   "execution_count": 18,
   "id": "7e8ed6a3-bf33-4803-8f15-a3907bd83394",
   "metadata": {},
   "outputs": [],
   "source": [
    "red = (0, 0, 255)\n",
    "cv2.rectangle(canvas, (20, 20), (100, 100), red, 3) # -1 instead of 3\n",
    "\n",
    "display('Rectangle', canvas)"
   ]
  },
  {
   "cell_type": "markdown",
   "id": "2dcf3728-417f-4834-9166-4a594b052297",
   "metadata": {},
   "source": [
    "## Drawing Circle\n",
    "> We need center X and center \n",
    "> cv2.circle(canvas, (centerx, centery), RADIUS, COLOR)"
   ]
  },
  {
   "cell_type": "code",
   "execution_count": 23,
   "id": "7160c969-57e2-421b-a9cb-e0f45e9af5b7",
   "metadata": {},
   "outputs": [
    {
     "data": {
      "text/plain": [
       "(400, 400, 3)"
      ]
     },
     "execution_count": 23,
     "metadata": {},
     "output_type": "execute_result"
    }
   ],
   "source": [
    "canvas.shape"
   ]
  },
  {
   "cell_type": "code",
   "execution_count": 26,
   "id": "ede75e43-dcec-4ab3-ac27-b0a4fe6958e5",
   "metadata": {},
   "outputs": [],
   "source": [
    "centerx, centery = (canvas.shape[0]//2, canvas.shape[1]//2)"
   ]
  },
  {
   "cell_type": "code",
   "execution_count": 27,
   "id": "0d172756-dc5b-4230-b5e9-a6c64eccbcce",
   "metadata": {},
   "outputs": [],
   "source": [
    "white = (255, 255, 255)"
   ]
  },
  {
   "cell_type": "code",
   "execution_count": 29,
   "id": "ced7d939-3366-46c9-9f5f-50cee15131fa",
   "metadata": {},
   "outputs": [],
   "source": [
    "for r in range(0, 400, 20):\n",
    "    cv2.circle(canvas, (centerx, centery), r, white)\n",
    "\n",
    "display('Circle', canvas)"
   ]
  },
  {
   "cell_type": "markdown",
   "id": "60e28349-44b9-4544-b50c-6727a20d116c",
   "metadata": {},
   "source": [
    "# Abstract Drawing"
   ]
  },
  {
   "cell_type": "code",
   "execution_count": 31,
   "id": "3f1eedee-5a0f-4310-bdb9-ebd6c76c0639",
   "metadata": {},
   "outputs": [
    {
     "name": "stdout",
     "output_type": "stream",
     "text": [
      "196\n",
      "[21, 233, 4]\n",
      "[267 174]\n"
     ]
    }
   ],
   "source": [
    "for i in range(0, 25): # Create 25 circle\n",
    "    #Create random circles\n",
    "    radius = np.random.randint(5, 200)\n",
    "    color = np.random.randint(0, 255, size=(3,)).tolist() # 0 - min and 256 - max value\n",
    "    #Center of circle\n",
    "    pt = np.random.randint(0,  400, (2,)) # (2,) is the size, centerX and centerY\n",
    "\n",
    "    cv2.circle(canvas, tuple(pt), radius, color, -1)\n",
    "\n",
    "print(radius)\n",
    "print(color)\n",
    "print(pt)\n",
    "\n",
    "\n",
    "display('Circles', canvas)"
   ]
  },
  {
   "cell_type": "code",
   "execution_count": 32,
   "id": "d356ba44-8c15-4578-937d-936649f594e8",
   "metadata": {},
   "outputs": [
    {
     "data": {
      "text/plain": [
       "True"
      ]
     },
     "execution_count": 32,
     "metadata": {},
     "output_type": "execute_result"
    }
   ],
   "source": [
    "cv2.imwrite('circles.png', canvas)"
   ]
  },
  {
   "cell_type": "code",
   "execution_count": null,
   "id": "d9903526-249d-44a3-a595-0cfe7ce91329",
   "metadata": {},
   "outputs": [],
   "source": []
  }
 ],
 "metadata": {
  "kernelspec": {
   "display_name": "Python 3 (ipykernel)",
   "language": "python",
   "name": "python3"
  },
  "language_info": {
   "codemirror_mode": {
    "name": "ipython",
    "version": 3
   },
   "file_extension": ".py",
   "mimetype": "text/x-python",
   "name": "python",
   "nbconvert_exporter": "python",
   "pygments_lexer": "ipython3",
   "version": "3.8.10"
  }
 },
 "nbformat": 4,
 "nbformat_minor": 5
}
