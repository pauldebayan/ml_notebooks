{
  "cells": [
    {
      "cell_type": "code",
      "execution_count": 1,
      "id": "660d4424-be8d-4083-8ab3-3d0bfb1c4527",
      "metadata": {
        "id": "660d4424-be8d-4083-8ab3-3d0bfb1c4527"
      },
      "outputs": [],
      "source": [
        "import numpy as np\n",
        "import cv2"
      ]
    },
    {
      "cell_type": "code",
      "execution_count": null,
      "id": "91a6c570-6d27-48ed-a942-f7bf21d8a538",
      "metadata": {
        "id": "91a6c570-6d27-48ed-a942-f7bf21d8a538"
      },
      "outputs": [],
      "source": [
        "img = cv2.imread('./images/bird.jpg')"
      ]
    },
    {
      "cell_type": "code",
      "execution_count": null,
      "id": "46b22e97-edc4-4654-b62b-b332c7f42b0b",
      "metadata": {
        "id": "46b22e97-edc4-4654-b62b-b332c7f42b0b"
      },
      "outputs": [],
      "source": [
        "# Jupyter\n",
        "def display(window_name, file_name):\n",
        "    cv2.imshow(window_name, file_name)\n",
        "    cv2.waitKey(5000)\n",
        "    cv2.destroyWindow(window_name)\n",
        ""
      ]
    },
    {
      "cell_type": "code",
      "execution_count": null,
      "id": "48ad8df3-ba22-492e-a805-c104e5a67143",
      "metadata": {
        "id": "48ad8df3-ba22-492e-a805-c104e5a67143"
      },
      "outputs": [],
      "source": [
        "display('Bird', img)"
      ]
    },
    {
      "cell_type": "code",
      "execution_count": null,
      "id": "f66ad558-a7c6-4dcc-b2e0-308db6815f19",
      "metadata": {
        "id": "f66ad558-a7c6-4dcc-b2e0-308db6815f19",
        "outputId": "54e96ea3-e839-4104-ece0-c7558c875498"
      },
      "outputs": [
        {
          "data": {
            "text/plain": [
              "(400, 375, 3)"
            ]
          },
          "execution_count": 5,
          "metadata": {},
          "output_type": "execute_result"
        }
      ],
      "source": [
        "img.shape"
      ]
    },
    {
      "cell_type": "markdown",
      "id": "2a6a32b4-ce81-4997-a2ad-d0b100459761",
      "metadata": {
        "id": "2a6a32b4-ce81-4997-a2ad-d0b100459761"
      },
      "source": [
        "## Accessing first 100 rows and first 100 columns\n",
        "\n",
        "We can actually slice the image using numerical python, since the \"img\" itself is a numpy arry we can easily do so"
      ]
    },
    {
      "cell_type": "code",
      "execution_count": null,
      "id": "4a7c3e65-be54-48c8-941a-71285ff6acc3",
      "metadata": {
        "id": "4a7c3e65-be54-48c8-941a-71285ff6acc3"
      },
      "outputs": [],
      "source": []
    }
  ],
  "metadata": {
    "kernelspec": {
      "display_name": "Python 3 (ipykernel)",
      "language": "python",
      "name": "python3"
    },
    "language_info": {
      "codemirror_mode": {
        "name": "ipython",
        "version": 3
      },
      "file_extension": ".py",
      "mimetype": "text/x-python",
      "name": "python",
      "nbconvert_exporter": "python",
      "pygments_lexer": "ipython3",
      "version": "3.8.10"
    },
    "colab": {
      "provenance": []
    }
  },
  "nbformat": 4,
  "nbformat_minor": 5
}