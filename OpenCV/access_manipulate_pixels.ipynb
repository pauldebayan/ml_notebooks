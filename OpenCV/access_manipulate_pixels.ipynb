{
 "cells": [
  {
   "cell_type": "code",
   "execution_count": 1,
   "id": "660d4424-be8d-4083-8ab3-3d0bfb1c4527",
   "metadata": {
    "id": "660d4424-be8d-4083-8ab3-3d0bfb1c4527"
   },
   "outputs": [],
   "source": [
    "import numpy as np\n",
    "import cv2"
   ]
  },
  {
   "cell_type": "code",
   "execution_count": 2,
   "id": "91a6c570-6d27-48ed-a942-f7bf21d8a538",
   "metadata": {
    "id": "91a6c570-6d27-48ed-a942-f7bf21d8a538"
   },
   "outputs": [],
   "source": [
    "img = cv2.imread('./images/bird.jpg')"
   ]
  },
  {
   "cell_type": "code",
   "execution_count": 3,
   "id": "46b22e97-edc4-4654-b62b-b332c7f42b0b",
   "metadata": {
    "id": "46b22e97-edc4-4654-b62b-b332c7f42b0b"
   },
   "outputs": [],
   "source": [
    "# Jupyter\n",
    "def display(window_name, file_name):\n",
    "    cv2.imshow(window_name, file_name)\n",
    "    cv2.waitKey(5000)\n",
    "    cv2.destroyWindow(window_name)\n"
   ]
  },
  {
   "cell_type": "code",
   "execution_count": 4,
   "id": "48ad8df3-ba22-492e-a805-c104e5a67143",
   "metadata": {
    "id": "48ad8df3-ba22-492e-a805-c104e5a67143"
   },
   "outputs": [],
   "source": [
    "display('Bird', img)"
   ]
  },
  {
   "cell_type": "code",
   "execution_count": 5,
   "id": "f66ad558-a7c6-4dcc-b2e0-308db6815f19",
   "metadata": {
    "id": "f66ad558-a7c6-4dcc-b2e0-308db6815f19",
    "outputId": "54e96ea3-e839-4104-ece0-c7558c875498"
   },
   "outputs": [
    {
     "data": {
      "text/plain": [
       "(400, 375, 3)"
      ]
     },
     "execution_count": 5,
     "metadata": {},
     "output_type": "execute_result"
    }
   ],
   "source": [
    "img.shape"
   ]
  },
  {
   "cell_type": "markdown",
   "id": "2a6a32b4-ce81-4997-a2ad-d0b100459761",
   "metadata": {
    "id": "2a6a32b4-ce81-4997-a2ad-d0b100459761"
   },
   "source": [
    "## Accessing first 100 rows and first 100 columns\n",
    "\n",
    "We can actually slice the image using numerical python, since the \"img\" itself is a numpy arry we can easily do so"
   ]
  },
  {
   "cell_type": "code",
   "execution_count": 6,
   "id": "4a7c3e65-be54-48c8-941a-71285ff6acc3",
   "metadata": {
    "id": "4a7c3e65-be54-48c8-941a-71285ff6acc3"
   },
   "outputs": [
    {
     "data": {
      "text/plain": [
       "numpy.ndarray"
      ]
     },
     "execution_count": 6,
     "metadata": {},
     "output_type": "execute_result"
    }
   ],
   "source": [
    "type(img)"
   ]
  },
  {
   "cell_type": "code",
   "execution_count": 17,
   "id": "4e5ba0bc-0cad-439a-ae81-e251953188bb",
   "metadata": {},
   "outputs": [],
   "source": [
    "#access first 100 rows and first 100 columns\n",
    "corners = img[0:100, 0:100]"
   ]
  },
  {
   "cell_type": "code",
   "execution_count": 18,
   "id": "53beadd4-f7ca-43bf-b54f-d75cfcae63f9",
   "metadata": {},
   "outputs": [],
   "source": [
    "display('Corners', corners)"
   ]
  },
  {
   "cell_type": "markdown",
   "id": "e0b90a9f-5b85-417f-9745-7be5af586f92",
   "metadata": {},
   "source": [
    "## Change first 100 rows and first 100 colums to green"
   ]
  },
  {
   "cell_type": "code",
   "execution_count": 19,
   "id": "45ecf0c2-02be-4b37-8cda-b74736a91d7c",
   "metadata": {},
   "outputs": [],
   "source": [
    "green = (0, 255, 0) # For 8-bit Green is (0, 255, 0)\n",
    "\n",
    "img[0:100, 0:100] = green"
   ]
  },
  {
   "cell_type": "code",
   "execution_count": 20,
   "id": "99592bfb-acd3-4f81-bec3-7b10f7120a90",
   "metadata": {},
   "outputs": [],
   "source": [
    "display('Green Corner in Image', img)"
   ]
  },
  {
   "cell_type": "code",
   "execution_count": null,
   "id": "fed2d3e9-251d-4f36-8d67-2c665981bd6b",
   "metadata": {},
   "outputs": [],
   "source": []
  }
 ],
 "metadata": {
  "colab": {
   "provenance": []
  },
  "kernelspec": {
   "display_name": "Python 3 (ipykernel)",
   "language": "python",
   "name": "python3"
  },
  "language_info": {
   "codemirror_mode": {
    "name": "ipython",
    "version": 3
   },
   "file_extension": ".py",
   "mimetype": "text/x-python",
   "name": "python",
   "nbconvert_exporter": "python",
   "pygments_lexer": "ipython3",
   "version": "3.8.10"
  }
 },
 "nbformat": 4,
 "nbformat_minor": 5
}
