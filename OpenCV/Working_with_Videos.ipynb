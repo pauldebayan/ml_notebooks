{
 "cells": [
  {
   "cell_type": "markdown",
   "id": "3108374e-4c69-4cb9-a503-b78104fe0e83",
   "metadata": {},
   "source": [
    "## Video\n",
    "> Video is nothing but floods of images"
   ]
  },
  {
   "cell_type": "code",
   "execution_count": 33,
   "id": "6384b549-9afd-4f6d-b385-ef487b0d8b47",
   "metadata": {},
   "outputs": [],
   "source": [
    "import numpy as np\n",
    "import cv2"
   ]
  },
  {
   "cell_type": "code",
   "execution_count": 34,
   "id": "e047884b-cb25-48d3-82e6-42e3dd806730",
   "metadata": {},
   "outputs": [],
   "source": [
    "cap = cv2.VideoCapture('./data/clip.mp4')"
   ]
  },
  {
   "cell_type": "markdown",
   "id": "f9090a6d-1650-40da-a8cd-98f0db5a4d36",
   "metadata": {},
   "source": [
    "## ret, frame = cap.read()\n",
    "ret means weather we can read the video or not, example if video is done \"ret\" will become false, we will also get false when video is not available"
   ]
  },
  {
   "cell_type": "code",
   "execution_count": 35,
   "id": "ecdd8e78-05fb-4c6b-aa44-c7e8da5958d0",
   "metadata": {},
   "outputs": [],
   "source": [
    "import time"
   ]
  },
  {
   "cell_type": "code",
   "execution_count": 36,
   "id": "2de8d8e5-5bd6-46a7-91dd-beb1293c81be",
   "metadata": {},
   "outputs": [],
   "source": [
    "fps = 0\n",
    "while True:\n",
    "    start_time = time.time()\n",
    "    ret, frame = cap.read()\n",
    "    if ret == False:\n",
    "        break\n",
    "\n",
    "    #Put FPS directly on the video\n",
    "    cv2.putText(frame, 'FPS: {:.0f}'.format(fps),(20, 200), cv2.FONT_HERSHEY_SIMPLEX, 1.5, (255, 255, 255), 1)\n",
    "    cv2.imshow('Video', frame)\n",
    "    if cv2.waitKey(33) == ord('q'): # Here ord('q') means q button press\n",
    "        break\n",
    "\n",
    "    time_taken = time.time() - start_time # time taken in seconds\n",
    "    fps = 1 / time_taken # Frames per second\n",
    "\n",
    "cap.release()\n",
    "cv2.destroyAllWindows()"
   ]
  },
  {
   "cell_type": "markdown",
   "id": "a2f6621a-a545-4333-8044-e966a43e2abe",
   "metadata": {},
   "source": [
    "## Frames Per Second - above video plays very fast\n",
    "This is because of **cv2.waitKey(1)** it means wait for 1 millisecond and than show the next frame.\n",
    "This means 1000 FPS\n",
    "\n",
    "To measure the time we need to import time"
   ]
  },
  {
   "cell_type": "code",
   "execution_count": 37,
   "id": "331ad5e2-ac31-404b-ace2-bc70aceb7830",
   "metadata": {},
   "outputs": [
    {
     "data": {
      "text/plain": [
       "33.333333333333336"
      ]
     },
     "execution_count": 37,
     "metadata": {},
     "output_type": "execute_result"
    }
   ],
   "source": [
    "# To display 30 FPS we need to devide it by 1000/30\n",
    "1000/30"
   ]
  },
  {
   "cell_type": "markdown",
   "id": "ba81888a-67e4-428e-94a4-bb76bae61f73",
   "metadata": {},
   "source": [
    "Now put this value on the wait key - "
   ]
  },
  {
   "cell_type": "markdown",
   "id": "0b27a837-9d46-43d5-98b0-bfabb9f79993",
   "metadata": {},
   "source": [
    "## Accessing Web Camera"
   ]
  },
  {
   "cell_type": "code",
   "execution_count": 43,
   "id": "4567940a-eeaf-4310-bf02-8834bf037b9c",
   "metadata": {},
   "outputs": [],
   "source": [
    "cap = cv2.VideoCapture(2) # 0, 1, 2; Here 0 means accesss the default camera\n",
    "fps = 0\n",
    "while True:\n",
    "    start_time = time.time()\n",
    "    ret, frame = cap.read()\n",
    "    if ret == False:\n",
    "        break\n",
    "\n",
    "    #Put FPS directly on the video\n",
    "    cv2.putText(frame, 'FPS: {:.0f}'.format(fps),(20, 200), cv2.FONT_HERSHEY_SIMPLEX, 1.5, (255, 255, 255), 1)\n",
    "    cv2.imshow('Video', frame)\n",
    "    if cv2.waitKey(1) == ord('q'): # Here ord('q') means q button press\n",
    "        break\n",
    "\n",
    "    time_taken = time.time() - start_time # time taken in seconds\n",
    "    fps = 1 / time_taken # Frames per second\n",
    "\n",
    "cap.release()\n",
    "cv2.destroyAllWindows()"
   ]
  },
  {
   "cell_type": "code",
   "execution_count": 42,
   "id": "8814b97a-b0e6-41f2-ab55-cead74523afd",
   "metadata": {},
   "outputs": [
    {
     "data": {
      "text/plain": [
       "(480, 640, 3)"
      ]
     },
     "execution_count": 42,
     "metadata": {},
     "output_type": "execute_result"
    }
   ],
   "source": [
    "frame.shape"
   ]
  },
  {
   "cell_type": "code",
   "execution_count": null,
   "id": "6b36bb0b-ed86-4fab-900b-41ea8acb7c23",
   "metadata": {},
   "outputs": [],
   "source": []
  }
 ],
 "metadata": {
  "kernelspec": {
   "display_name": "Python 3 (ipykernel)",
   "language": "python",
   "name": "python3"
  },
  "language_info": {
   "codemirror_mode": {
    "name": "ipython",
    "version": 3
   },
   "file_extension": ".py",
   "mimetype": "text/x-python",
   "name": "python",
   "nbconvert_exporter": "python",
   "pygments_lexer": "ipython3",
   "version": "3.8.10"
  }
 },
 "nbformat": 4,
 "nbformat_minor": 5
}
