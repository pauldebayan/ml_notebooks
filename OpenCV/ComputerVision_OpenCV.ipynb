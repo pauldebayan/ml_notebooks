{
 "cells": [
  {
   "cell_type": "code",
   "execution_count": 3,
   "metadata": {
    "id": "CpUo8WuA_4yQ"
   },
   "outputs": [],
   "source": [
    "import numpy as np\n",
    "import cv2"
   ]
  },
  {
   "cell_type": "code",
   "execution_count": 4,
   "metadata": {
    "colab": {
     "base_uri": "https://localhost:8080/"
    },
    "id": "O1KxRre1CJm4",
    "outputId": "56dbe488-3100-435b-8d62-153dad1c9d30"
   },
   "outputs": [],
   "source": [
    "# !wget https://raw.githubusercontent.com/pauldebayan/ml_notebooks/main/images/flemingo.jpg"
   ]
  },
  {
   "cell_type": "code",
   "execution_count": 5,
   "metadata": {
    "colab": {
     "base_uri": "https://localhost:8080/"
    },
    "id": "BWPlCeZWCNyn",
    "outputId": "9c597159-799d-4e59-8467-f0151cb1e0cc"
   },
   "outputs": [
    {
     "name": "stdout",
     "output_type": "stream",
     "text": [
      "ComputerVision_OpenCV.ipynb\n"
     ]
    }
   ],
   "source": [
    "!ls"
   ]
  },
  {
   "cell_type": "code",
   "execution_count": 10,
   "metadata": {
    "id": "AG1cmjoOBvay"
   },
   "outputs": [],
   "source": [
    "img = cv2.imread('../images/flemingo.jpg')"
   ]
  },
  {
   "cell_type": "code",
   "execution_count": 11,
   "metadata": {
    "colab": {
     "base_uri": "https://localhost:8080/"
    },
    "id": "ZfYlzyJFB7EX",
    "outputId": "bdcf97b7-99b1-4919-aee5-4b0dda11bbca"
   },
   "outputs": [
    {
     "name": "stdout",
     "output_type": "stream",
     "text": [
      "[[[189 164 120]\n",
      "  [189 164 120]\n",
      "  [189 164 120]\n",
      "  ...\n",
      "  [188 163 119]\n",
      "  [188 163 119]\n",
      "  [188 163 119]]\n",
      "\n",
      " [[189 164 120]\n",
      "  [189 164 120]\n",
      "  [189 164 120]\n",
      "  ...\n",
      "  [188 163 119]\n",
      "  [188 163 119]\n",
      "  [188 163 119]]\n",
      "\n",
      " [[189 164 120]\n",
      "  [189 164 120]\n",
      "  [189 164 120]\n",
      "  ...\n",
      "  [188 163 119]\n",
      "  [188 163 119]\n",
      "  [188 163 119]]\n",
      "\n",
      " ...\n",
      "\n",
      " [[161 128  82]\n",
      "  [161 128  82]\n",
      "  [161 128  82]\n",
      "  ...\n",
      "  [174 140  94]\n",
      "  [174 140  94]\n",
      "  [174 140  94]]\n",
      "\n",
      " [[168 135  89]\n",
      "  [169 136  90]\n",
      "  [170 137  91]\n",
      "  ...\n",
      "  [178 144  98]\n",
      "  [178 144  98]\n",
      "  [178 144  98]]\n",
      "\n",
      " [[176 143  97]\n",
      "  [177 144  98]\n",
      "  [178 145  99]\n",
      "  ...\n",
      "  [180 146 100]\n",
      "  [180 146 100]\n",
      "  [180 146 100]]]\n"
     ]
    }
   ],
   "source": [
    "print(img)"
   ]
  },
  {
   "cell_type": "code",
   "execution_count": 12,
   "metadata": {
    "colab": {
     "base_uri": "https://localhost:8080/"
    },
    "id": "lMb6Abr2DE_p",
    "outputId": "602d0403-7bf7-4ee3-de76-a1e69c1d63db"
   },
   "outputs": [
    {
     "data": {
      "text/plain": [
       "(400, 400, 3)"
      ]
     },
     "execution_count": 12,
     "metadata": {},
     "output_type": "execute_result"
    }
   ],
   "source": [
    "img.shape"
   ]
  },
  {
   "cell_type": "markdown",
   "metadata": {
    "id": "2SKYnzPNDTNu"
   },
   "source": [
    "OpenCV by default reads BGR and not RGB"
   ]
  },
  {
   "cell_type": "code",
   "execution_count": null,
   "metadata": {
    "colab": {
     "base_uri": "https://localhost:8080/",
     "height": 401
    },
    "id": "1FlXBvPvDGRZ",
    "outputId": "bc77a50c-13e4-43ce-9b27-b0095bf30e34"
   },
   "outputs": [],
   "source": [
    "# This does not work in Google Colab - use Jupyter Notebook in device\n",
    "cv2.imshow('window', img)\n",
    "#cv2.waitKey(10000)\n",
    "cv2.waitKey(0) # instead of disapperaing after 10 seconds - wait for a key press\n",
    "\n",
    "cv2.destroyWindow('window')"
   ]
  },
  {
   "cell_type": "markdown",
   "metadata": {},
   "source": [
    "## Save the file\n",
    "\n",
    "> cv2.imwrite('where to store', array_name)"
   ]
  },
  {
   "cell_type": "code",
   "execution_count": null,
   "metadata": {},
   "outputs": [],
   "source": [
    "# !ls\n",
    "cv2.imwrite('../images/output.png', img)"
   ]
  },
  {
   "cell_type": "markdown",
   "metadata": {},
   "source": [
    "## RGB\n",
    "\n",
    "![rgb.png](../images/rgb.jpg)\n",
    "\n",
    "## Converting Color\n",
    "\n",
    "![Convert Color](../images/convert_color.jpg)\n",
    "\n",
    "> All images that we are going to study are all unsigned 8-bit integers\n",
    "\n",
    "If it is n-bit Image than:\n",
    "2^3 or 2^n\n",
    "![N-Bit Image](images/nBitIntegers.jpg"
   ]
  },
  {
   "cell_type": "code",
   "execution_count": null,
   "metadata": {},
   "outputs": [],
   "source": [
    "img"
   ]
  },
  {
   "cell_type": "code",
   "execution_count": null,
   "metadata": {},
   "outputs": [],
   "source": [
    "img.shape"
   ]
  },
  {
   "cell_type": "markdown",
   "metadata": {},
   "source": [
    "## We will spread the matrix into 3 parts - BGR"
   ]
  },
  {
   "cell_type": "code",
   "execution_count": null,
   "metadata": {},
   "outputs": [],
   "source": [
    "img = cv2.imread('../images/RGB_Color.png')\n",
    "b, g, r = cv2.split(img)"
   ]
  },
  {
   "cell_type": "code",
   "execution_count": null,
   "metadata": {},
   "outputs": [],
   "source": [
    "b # 255 is pure blue"
   ]
  },
  {
   "cell_type": "markdown",
   "metadata": {},
   "source": [
    "## Lighter Means more closer to that color"
   ]
  },
  {
   "cell_type": "code",
   "execution_count": null,
   "metadata": {},
   "outputs": [],
   "source": [
    "#cv2.imshow('RGB Color', img)\n",
    "cv2.imshow('Blue Color', b)\n",
    "cv2.imshow('Red Color', r)\n",
    "cv2.imshow('Green Color', g)\n",
    "cv2.waitKey(0)\n",
    "cv2.destroyAllWindows()"
   ]
  },
  {
   "cell_type": "markdown",
   "metadata": {},
   "source": [
    "## Color Converter"
   ]
  },
  {
   "cell_type": "code",
   "execution_count": null,
   "metadata": {},
   "outputs": [],
   "source": [
    "img = cv2.imread('../images/flemingo.jpg')\n",
    "img_rgb = cv2.cvtColor(img, cv2.COLOR_BGR2RGB)\n",
    "#Gray\n",
    "gray = cv2.cvtColor(img, cv2.COLOR_BGR2GRAY)\n",
    "\n",
    "cv2.imshow('BGR', img)\n",
    "cv2.imshow('RGB Color', img_rgb) # BGR -> RGB, Blue is replaced by Red and vice versa\n",
    "cv2.imshow('GRAY Color', gray)\n",
    "\n",
    "cv2.waitKey(0)\n",
    "cv2.destroyAllWindows()"
   ]
  }
 ],
 "metadata": {
  "colab": {
   "provenance": []
  },
  "kernelspec": {
   "display_name": "Python 3 (ipykernel)",
   "language": "python",
   "name": "python3"
  },
  "language_info": {
   "codemirror_mode": {
    "name": "ipython",
    "version": 3
   },
   "file_extension": ".py",
   "mimetype": "text/x-python",
   "name": "python",
   "nbconvert_exporter": "python",
   "pygments_lexer": "ipython3",
   "version": "3.8.10"
  }
 },
 "nbformat": 4,
 "nbformat_minor": 4
}
