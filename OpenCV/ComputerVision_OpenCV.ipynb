{
 "cells": [
  {
   "cell_type": "code",
   "execution_count": 3,
   "metadata": {
    "id": "CpUo8WuA_4yQ"
   },
   "outputs": [],
   "source": [
    "import numpy as np\n",
    "import cv2"
   ]
  },
  {
   "cell_type": "code",
   "execution_count": 4,
   "metadata": {
    "colab": {
     "base_uri": "https://localhost:8080/"
    },
    "id": "O1KxRre1CJm4",
    "outputId": "dc75f7a6-2e66-45f2-d089-03c71d41cbfb"
   },
   "outputs": [],
   "source": [
    "#!wget https://raw.githubusercontent.com/pauldebayan/ml_notebooks/main/images/flemingo.jpg"
   ]
  },
  {
   "cell_type": "code",
   "execution_count": 5,
   "metadata": {
    "colab": {
     "base_uri": "https://localhost:8080/"
    },
    "id": "BWPlCeZWCNyn",
    "outputId": "86db9cf9-8510-4926-b969-e4ed493e1a5b"
   },
   "outputs": [
    {
     "name": "stdout",
     "output_type": "stream",
     "text": [
      "ComputerVision_OpenCV.ipynb  images\n"
     ]
    }
   ],
   "source": [
    "!ls"
   ]
  },
  {
   "cell_type": "code",
   "execution_count": 6,
   "metadata": {
    "id": "AG1cmjoOBvay"
   },
   "outputs": [],
   "source": [
    "img = cv2.imread('./images/flemingo.jpg')"
   ]
  },
  {
   "cell_type": "code",
   "execution_count": 7,
   "metadata": {
    "colab": {
     "base_uri": "https://localhost:8080/"
    },
    "id": "ZfYlzyJFB7EX",
    "outputId": "b84cec44-4ce1-4737-97e9-6121500c16ae"
   },
   "outputs": [
    {
     "name": "stdout",
     "output_type": "stream",
     "text": [
      "[[[189 164 120]\n",
      "  [189 164 120]\n",
      "  [189 164 120]\n",
      "  ...\n",
      "  [188 163 119]\n",
      "  [188 163 119]\n",
      "  [188 163 119]]\n",
      "\n",
      " [[189 164 120]\n",
      "  [189 164 120]\n",
      "  [189 164 120]\n",
      "  ...\n",
      "  [188 163 119]\n",
      "  [188 163 119]\n",
      "  [188 163 119]]\n",
      "\n",
      " [[189 164 120]\n",
      "  [189 164 120]\n",
      "  [189 164 120]\n",
      "  ...\n",
      "  [188 163 119]\n",
      "  [188 163 119]\n",
      "  [188 163 119]]\n",
      "\n",
      " ...\n",
      "\n",
      " [[161 128  82]\n",
      "  [161 128  82]\n",
      "  [161 128  82]\n",
      "  ...\n",
      "  [174 140  94]\n",
      "  [174 140  94]\n",
      "  [174 140  94]]\n",
      "\n",
      " [[168 135  89]\n",
      "  [169 136  90]\n",
      "  [170 137  91]\n",
      "  ...\n",
      "  [178 144  98]\n",
      "  [178 144  98]\n",
      "  [178 144  98]]\n",
      "\n",
      " [[176 143  97]\n",
      "  [177 144  98]\n",
      "  [178 145  99]\n",
      "  ...\n",
      "  [180 146 100]\n",
      "  [180 146 100]\n",
      "  [180 146 100]]]\n"
     ]
    }
   ],
   "source": [
    "print(img)"
   ]
  },
  {
   "cell_type": "code",
   "execution_count": 8,
   "metadata": {
    "colab": {
     "base_uri": "https://localhost:8080/"
    },
    "id": "lMb6Abr2DE_p",
    "outputId": "c113ad3b-7f99-4f33-8d7e-75703be45a86"
   },
   "outputs": [
    {
     "data": {
      "text/plain": [
       "(400, 400, 3)"
      ]
     },
     "execution_count": 8,
     "metadata": {},
     "output_type": "execute_result"
    }
   ],
   "source": [
    "img.shape"
   ]
  },
  {
   "cell_type": "markdown",
   "metadata": {
    "id": "2SKYnzPNDTNu"
   },
   "source": [
    "OpenCV by default reads BGR and not RGB"
   ]
  },
  {
   "cell_type": "code",
   "execution_count": 9,
   "metadata": {
    "colab": {
     "base_uri": "https://localhost:8080/",
     "height": 439
    },
    "id": "1FlXBvPvDGRZ",
    "outputId": "0bb80dce-2577-439f-a34d-e4ee251e44c0"
   },
   "outputs": [
    {
     "data": {
      "text/plain": [
       "array([[[189, 164, 120],\n",
       "        [189, 164, 120],\n",
       "        [189, 164, 120],\n",
       "        ...,\n",
       "        [188, 163, 119],\n",
       "        [188, 163, 119],\n",
       "        [188, 163, 119]],\n",
       "\n",
       "       [[189, 164, 120],\n",
       "        [189, 164, 120],\n",
       "        [189, 164, 120],\n",
       "        ...,\n",
       "        [188, 163, 119],\n",
       "        [188, 163, 119],\n",
       "        [188, 163, 119]],\n",
       "\n",
       "       [[189, 164, 120],\n",
       "        [189, 164, 120],\n",
       "        [189, 164, 120],\n",
       "        ...,\n",
       "        [188, 163, 119],\n",
       "        [188, 163, 119],\n",
       "        [188, 163, 119]],\n",
       "\n",
       "       ...,\n",
       "\n",
       "       [[161, 128,  82],\n",
       "        [161, 128,  82],\n",
       "        [161, 128,  82],\n",
       "        ...,\n",
       "        [174, 140,  94],\n",
       "        [174, 140,  94],\n",
       "        [174, 140,  94]],\n",
       "\n",
       "       [[168, 135,  89],\n",
       "        [169, 136,  90],\n",
       "        [170, 137,  91],\n",
       "        ...,\n",
       "        [178, 144,  98],\n",
       "        [178, 144,  98],\n",
       "        [178, 144,  98]],\n",
       "\n",
       "       [[176, 143,  97],\n",
       "        [177, 144,  98],\n",
       "        [178, 145,  99],\n",
       "        ...,\n",
       "        [180, 146, 100],\n",
       "        [180, 146, 100],\n",
       "        [180, 146, 100]]], dtype=uint8)"
      ]
     },
     "execution_count": 9,
     "metadata": {},
     "output_type": "execute_result"
    }
   ],
   "source": [
    "# This does not work in Google Colab - use Jupyter Notebook in device\n",
    "#cv2.imshow('window', img)\n",
    "#cv2.waitKey(10000)\n",
    "#cv2.waitKey(0) # instead of disapperaing after 10 seconds - wait for a key press\n",
    "\n",
    "#cv2.destroyWindow('window')\n",
    "img"
   ]
  },
  {
   "cell_type": "markdown",
   "metadata": {
    "id": "rHOzFCdcsp2g"
   },
   "source": [
    "## Save the file\n",
    "\n",
    "> cv2.imwrite('where to store', array_name)"
   ]
  },
  {
   "cell_type": "code",
   "execution_count": 10,
   "metadata": {
    "id": "vnIpKmEjsp2h"
   },
   "outputs": [
    {
     "data": {
      "text/plain": [
       "True"
      ]
     },
     "execution_count": 10,
     "metadata": {},
     "output_type": "execute_result"
    }
   ],
   "source": [
    "# !ls\n",
    "cv2.imwrite('./images/output.png', img)"
   ]
  },
  {
   "cell_type": "markdown",
   "metadata": {
    "id": "0-cs8QDwsp2h"
   },
   "source": [
    "## RGB\n",
    "\n",
    "![rgb.png](./images/rgb.jpg)\n",
    "\n",
    "## Converting Color\n",
    "\n",
    "![Convert Color](./images/convert_color.jpg)\n",
    "\n",
    "> All images that we are going to study are all unsigned 8-bit integers\n",
    "\n",
    "If it is n-bit Image than:\n",
    "2^3 or 2^n\n",
    "![N-Bit Image](./images/nBitIntegers.jpg)"
   ]
  },
  {
   "cell_type": "code",
   "execution_count": 11,
   "metadata": {
    "colab": {
     "base_uri": "https://localhost:8080/",
     "height": 439
    },
    "id": "4OPZPD4Ysp2i",
    "outputId": "f27c6e9e-97dc-4c15-a027-ee9bc1e8e05b"
   },
   "outputs": [
    {
     "data": {
      "text/plain": [
       "array([[[189, 164, 120],\n",
       "        [189, 164, 120],\n",
       "        [189, 164, 120],\n",
       "        ...,\n",
       "        [188, 163, 119],\n",
       "        [188, 163, 119],\n",
       "        [188, 163, 119]],\n",
       "\n",
       "       [[189, 164, 120],\n",
       "        [189, 164, 120],\n",
       "        [189, 164, 120],\n",
       "        ...,\n",
       "        [188, 163, 119],\n",
       "        [188, 163, 119],\n",
       "        [188, 163, 119]],\n",
       "\n",
       "       [[189, 164, 120],\n",
       "        [189, 164, 120],\n",
       "        [189, 164, 120],\n",
       "        ...,\n",
       "        [188, 163, 119],\n",
       "        [188, 163, 119],\n",
       "        [188, 163, 119]],\n",
       "\n",
       "       ...,\n",
       "\n",
       "       [[161, 128,  82],\n",
       "        [161, 128,  82],\n",
       "        [161, 128,  82],\n",
       "        ...,\n",
       "        [174, 140,  94],\n",
       "        [174, 140,  94],\n",
       "        [174, 140,  94]],\n",
       "\n",
       "       [[168, 135,  89],\n",
       "        [169, 136,  90],\n",
       "        [170, 137,  91],\n",
       "        ...,\n",
       "        [178, 144,  98],\n",
       "        [178, 144,  98],\n",
       "        [178, 144,  98]],\n",
       "\n",
       "       [[176, 143,  97],\n",
       "        [177, 144,  98],\n",
       "        [178, 145,  99],\n",
       "        ...,\n",
       "        [180, 146, 100],\n",
       "        [180, 146, 100],\n",
       "        [180, 146, 100]]], dtype=uint8)"
      ]
     },
     "execution_count": 11,
     "metadata": {},
     "output_type": "execute_result"
    }
   ],
   "source": [
    "img"
   ]
  },
  {
   "cell_type": "code",
   "execution_count": 12,
   "metadata": {
    "colab": {
     "base_uri": "https://localhost:8080/"
    },
    "id": "H5TCT60lsp2i",
    "outputId": "1f06551e-53ba-4dea-9fb4-1ee9d5c7011b"
   },
   "outputs": [
    {
     "data": {
      "text/plain": [
       "(400, 400, 3)"
      ]
     },
     "execution_count": 12,
     "metadata": {},
     "output_type": "execute_result"
    }
   ],
   "source": [
    "img.shape"
   ]
  },
  {
   "cell_type": "markdown",
   "metadata": {
    "id": "Z4frhCqXsp2j"
   },
   "source": [
    "## We will spread the matrix into 3 parts - BGR"
   ]
  },
  {
   "cell_type": "code",
   "execution_count": 13,
   "metadata": {
    "colab": {
     "base_uri": "https://localhost:8080/"
    },
    "id": "pP9GVgh-sp2j",
    "outputId": "2c2dfcf1-f3b1-452a-c4cd-6819811d760e"
   },
   "outputs": [],
   "source": [
    "#img = cv2.imread('../images/RGB_Color.png') # Jupyter\n",
    "\n",
    "#!wget https://raw.githubusercontent.com/pauldebayan/ml_notebooks/main/images/RGB_Color.png\n",
    "#img\n",
    "img = cv2.imread('./images/RGB_Color.png') # Colab\n",
    "b, g, r = cv2.split(img)\n"
   ]
  },
  {
   "cell_type": "code",
   "execution_count": 14,
   "metadata": {
    "colab": {
     "base_uri": "https://localhost:8080/",
     "height": 539
    },
    "id": "7-wbQhnKsp2j",
    "outputId": "4fc91bd6-f516-4834-8b3b-99b31eb93b16"
   },
   "outputs": [
    {
     "data": {
      "text/plain": [
       "array([[255, 255, 255, ..., 255, 255, 255],\n",
       "       [255, 255, 255, ..., 255, 255, 255],\n",
       "       [255, 255, 255, ..., 255, 255, 255],\n",
       "       ...,\n",
       "       [255, 255, 255, ..., 255, 255, 255],\n",
       "       [255, 255, 255, ..., 255, 255, 255],\n",
       "       [255, 255, 255, ..., 255, 255, 255]], dtype=uint8)"
      ]
     },
     "execution_count": 14,
     "metadata": {},
     "output_type": "execute_result"
    }
   ],
   "source": [
    "b # 255 is pure blue"
   ]
  },
  {
   "cell_type": "markdown",
   "metadata": {
    "id": "Qn6zjRSGsp2j"
   },
   "source": [
    "## Lighter Means more closer to that color"
   ]
  },
  {
   "cell_type": "code",
   "execution_count": 15,
   "metadata": {
    "id": "YKSaU7vUsp2j"
   },
   "outputs": [],
   "source": [
    "# Jupyter\n",
    "#cv2.imshow('RGB Color', img)\n",
    "cv2.imshow('Blue Color', b)\n",
    "cv2.imshow('Red Color', r)\n",
    "cv2.imshow('Green Color', g)\n",
    "cv2.waitKey(0)\n",
    "cv2.destroyAllWindows()"
   ]
  },
  {
   "cell_type": "markdown",
   "metadata": {
    "id": "UPdc6_Xxsp2k"
   },
   "source": [
    "## Color Converter"
   ]
  },
  {
   "cell_type": "code",
   "execution_count": 16,
   "metadata": {
    "id": "ozSBYQ6rsp2k"
   },
   "outputs": [],
   "source": [
    "img = cv2.imread('./images/flemingo.jpg')\n",
    "img_rgb = cv2.cvtColor(img, cv2.COLOR_BGR2RGB)\n",
    "#Gray\n",
    "gray = cv2.cvtColor(img, cv2.COLOR_BGR2GRAY)"
   ]
  },
  {
   "cell_type": "code",
   "execution_count": null,
   "metadata": {
    "id": "yBO7peE_vhY6"
   },
   "outputs": [],
   "source": [
    "cv2.imshow('BGR', img)\n",
    "cv2.imshow('RGB Color', img_rgb) # BGR -> RGB, Blue is replaced by Red and vice versa\n",
    "cv2.imshow('GRAY Color', gray)\n",
    "\n",
    "cv2.waitKey(0)\n",
    "cv2.destroyAllWindows()"
   ]
  },
  {
   "cell_type": "code",
   "execution_count": null,
   "metadata": {
    "colab": {
     "base_uri": "https://localhost:8080/",
     "height": 439
    },
    "id": "w02sfVddvGK-",
    "outputId": "953acdb7-cc18-471d-bb0d-ee0aa994f50e"
   },
   "outputs": [],
   "source": [
    "img"
   ]
  },
  {
   "cell_type": "code",
   "execution_count": null,
   "metadata": {
    "colab": {
     "base_uri": "https://localhost:8080/",
     "height": 439
    },
    "id": "BOfxwJUyvf38",
    "outputId": "539f5291-c1d9-4c1b-cdf7-a37648362644"
   },
   "outputs": [],
   "source": [
    "gray"
   ]
  },
  {
   "cell_type": "code",
   "execution_count": null,
   "metadata": {
    "colab": {
     "base_uri": "https://localhost:8080/",
     "height": 439
    },
    "id": "wPMIlmUzvdkT",
    "outputId": "6d763981-7058-4a11-e5c0-74ab5b91cd22"
   },
   "outputs": [],
   "source": [
    "img_rgb"
   ]
  },
  {
   "cell_type": "code",
   "execution_count": null,
   "metadata": {},
   "outputs": [],
   "source": []
  }
 ],
 "metadata": {
  "colab": {
   "provenance": []
  },
  "kernelspec": {
   "display_name": "Python 3 (ipykernel)",
   "language": "python",
   "name": "python3"
  },
  "language_info": {
   "codemirror_mode": {
    "name": "ipython",
    "version": 3
   },
   "file_extension": ".py",
   "mimetype": "text/x-python",
   "name": "python",
   "nbconvert_exporter": "python",
   "pygments_lexer": "ipython3",
   "version": "3.8.10"
  }
 },
 "nbformat": 4,
 "nbformat_minor": 4
}
