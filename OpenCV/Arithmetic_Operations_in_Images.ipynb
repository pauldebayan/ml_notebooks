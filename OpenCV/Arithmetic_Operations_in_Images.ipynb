{
 "cells": [
  {
   "cell_type": "markdown",
   "id": "91f2b270-945a-41e3-9d23-c5991352c0ea",
   "metadata": {},
   "source": [
    "## Operations:\n",
    "- Addition\n",
    "- Subtraction\n",
    "- Blending"
   ]
  },
  {
   "cell_type": "markdown",
   "id": "1fffcb62-0902-4f1e-abe2-44866d2a0e90",
   "metadata": {},
   "source": [
    "## Addition\n",
    "![Addition Limit](./images/nb_arithmetic_1.jpg)\n",
    "\n",
    "Here 260 is not a valid unsigned 8-bit integer, anything more than 255 will be clippedto 255, 260 becomes 255 "
   ]
  },
  {
   "cell_type": "code",
   "execution_count": 17,
   "id": "bd6f7356-1bfe-41c3-9f8d-aec55aa840a9",
   "metadata": {},
   "outputs": [],
   "source": [
    "import numpy as np\n",
    "import cv2"
   ]
  },
  {
   "cell_type": "code",
   "execution_count": 18,
   "id": "8cbfa1de-aa7c-44cc-b6fa-7020323102dd",
   "metadata": {},
   "outputs": [],
   "source": [
    "img = cv2.imread('./images/car.jpg')"
   ]
  },
  {
   "cell_type": "code",
   "execution_count": 19,
   "id": "6dcd8e7a-09a2-4c58-acee-f431b2aa9398",
   "metadata": {},
   "outputs": [],
   "source": [
    "cv2.imshow('Car', img)\n",
    "cv2.waitKey(5000)\n",
    "cv2.destroyAllWindows()"
   ]
  },
  {
   "cell_type": "code",
   "execution_count": 20,
   "id": "c28fc4fc-b1f5-4c56-9112-d98519f36cea",
   "metadata": {},
   "outputs": [],
   "source": [
    "#img"
   ]
  },
  {
   "cell_type": "markdown",
   "id": "599e31f5-059b-44f3-a8b9-831c95fbcda0",
   "metadata": {},
   "source": [
    "## We will add value to each and every pixel of the image"
   ]
  },
  {
   "cell_type": "code",
   "execution_count": 21,
   "id": "1c4c611e-fa66-4b0f-a9b1-2768840da9af",
   "metadata": {},
   "outputs": [],
   "source": [
    "value = np.ones_like(img, dtype='uint8') # ones_like will return array of 1 with same shape and type\n",
    "\n",
    "# We will get a black image\n",
    "# We know any value closer to 0 will be black, it is 1 so it will be black\n",
    "# Multiply the array with 255\n",
    "value = np.ones_like(img, dtype='uint8')*255\n"
   ]
  },
  {
   "cell_type": "code",
   "execution_count": 22,
   "id": "bd9126fb-98ef-465f-99d2-52f155e00a26",
   "metadata": {},
   "outputs": [],
   "source": [
    "cv2.imshow('Value', value)\n",
    "cv2.waitKey(5000)\n",
    "cv2.destroyAllWindows()"
   ]
  },
  {
   "cell_type": "code",
   "execution_count": 37,
   "id": "93fe65ef-67ee-4cee-a95b-3d628cd3697e",
   "metadata": {},
   "outputs": [],
   "source": [
    "value = np.ones_like(img, dtype='uint8')*100 # we want to add 50 to eacha nd every pixel"
   ]
  },
  {
   "cell_type": "code",
   "execution_count": 38,
   "id": "4440ca9d-6c0e-4d41-a17d-316c5fa973bd",
   "metadata": {},
   "outputs": [],
   "source": [
    "img_add = cv2.add(img, value) # cv2 will take care of clipping"
   ]
  },
  {
   "cell_type": "code",
   "execution_count": 39,
   "id": "c00ac429-e854-4d1a-ae33-a962a8197312",
   "metadata": {},
   "outputs": [],
   "source": [
    "cv2.imshow('Added', img_add)\n",
    "cv2.waitKey(5000)\n",
    "cv2.destroyAllWindows()"
   ]
  },
  {
   "cell_type": "markdown",
   "id": "c7a1a46f-2566-4364-9c89-17729842a23f",
   "metadata": {},
   "source": [
    "### Addition will just increase the brightness of the image"
   ]
  },
  {
   "cell_type": "markdown",
   "id": "ccfe4d83-814d-4c01-9138-23e523454b67",
   "metadata": {},
   "source": [
    "## Subtraction\n",
    "![Subtraction](./images/nb_arithmetic_subtraction.jpg)"
   ]
  },
  {
   "cell_type": "code",
   "execution_count": 47,
   "id": "82b8d36c-c286-43aa-bca3-50e990806f2c",
   "metadata": {},
   "outputs": [],
   "source": [
    "value = np.ones_like(img, dtype='uint8')*75"
   ]
  },
  {
   "cell_type": "code",
   "execution_count": 48,
   "id": "04dd756c-1b2c-42bd-b232-03b548ab2140",
   "metadata": {},
   "outputs": [],
   "source": [
    "img_sub = cv2.subtract(img, value)"
   ]
  },
  {
   "cell_type": "code",
   "execution_count": 49,
   "id": "e8e66085-cd27-4ba5-b1ea-c3c8468ff71d",
   "metadata": {},
   "outputs": [],
   "source": [
    "cv2.imshow('Original', img)\n",
    "cv2.imshow('Img_subtract', img_sub)\n",
    "cv2.waitKey(5000)\n",
    "cv2.destroyAllWindows()"
   ]
  },
  {
   "cell_type": "markdown",
   "id": "55eccebf-441c-4cae-920d-c80c6f98128a",
   "metadata": {},
   "source": [
    "## Blending(Superimposing two images)\n",
    "![Blendin_Transparency](./images/nb_transparency_blending.jpg)\n",
    "\n",
    "The gamma(Y) can be considered as addition or substraction that we did previously"
   ]
  },
  {
   "cell_type": "markdown",
   "id": "21785182-36b2-4d55-99cb-89ebaf49528f",
   "metadata": {},
   "source": [
    "## Background - blend_1.jpg and Foreground - blend_2.jpg"
   ]
  },
  {
   "cell_type": "code",
   "execution_count": 52,
   "id": "8c38e88f-debe-44ef-b8fe-40fcc31bf1cb",
   "metadata": {},
   "outputs": [],
   "source": [
    "img1 = cv2.imread('./images/blend_1.jpg')\n",
    "img2 = cv2.imread('./images/blend_2.jpg')"
   ]
  },
  {
   "cell_type": "code",
   "execution_count": 65,
   "id": "99a956af-955b-4e4d-9ec3-f63d4ad15627",
   "metadata": {},
   "outputs": [],
   "source": [
    "blend = cv2.addWeighted(img1, 0.7, img2, 0.3, 100) #(src1, alpha, src2, beta, gamma)\n",
    "# we can also put negative value to the gamma variable"
   ]
  },
  {
   "cell_type": "code",
   "execution_count": 66,
   "id": "f61ae681-24de-4eb4-9309-010ccfef22bc",
   "metadata": {},
   "outputs": [],
   "source": [
    "cv2.imshow('Blend', blend)\n",
    "cv2.waitKey(5000)\n",
    "cv2.destroyAllWindows()"
   ]
  },
  {
   "cell_type": "code",
   "execution_count": null,
   "id": "7b8b4a3e-87c9-458d-bb80-dbd72c990e6b",
   "metadata": {},
   "outputs": [],
   "source": []
  }
 ],
 "metadata": {
  "kernelspec": {
   "display_name": "Python 3 (ipykernel)",
   "language": "python",
   "name": "python3"
  },
  "language_info": {
   "codemirror_mode": {
    "name": "ipython",
    "version": 3
   },
   "file_extension": ".py",
   "mimetype": "text/x-python",
   "name": "python",
   "nbconvert_exporter": "python",
   "pygments_lexer": "ipython3",
   "version": "3.8.10"
  }
 },
 "nbformat": 4,
 "nbformat_minor": 5
}
