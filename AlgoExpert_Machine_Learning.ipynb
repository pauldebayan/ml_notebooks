{
 "cells": [
  {
   "cell_type": "code",
   "execution_count": null,
   "id": "a72190f0-3293-45eb-a774-0ef17f3572ca",
   "metadata": {},
   "outputs": [],
   "source": []
  }
 ],
 "metadata": {
  "kernelspec": {
   "display_name": "",
   "name": ""
  },
  "language_info": {
   "name": ""
  }
 },
 "nbformat": 4,
 "nbformat_minor": 5
}
